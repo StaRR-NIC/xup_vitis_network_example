{
 "cells": [
  {
   "cell_type": "markdown",
   "metadata": {},
   "source": [
    "# Benchmark Round Trip time experiment (Switch)\n",
    "This notebook will show you how to measure the round trip time between two Alveo nodes using the benchmark application with UDP as a transport protocol.\n",
    "We are going to rely on a Dask cluster to configure the local and remote Alveo cards.\n",
    "\n",
    "This notebook assumes:\n",
    "* The Alveo cards are connected to a switch\n",
    "* Dask cluster is already created and running. For more information about setting up a Dask cluster visit the [Dask documentation](https://docs.dask.org/en/latest/setup.html)"
   ]
  },
  {
   "cell_type": "markdown",
   "metadata": {},
   "source": [
    "## Source Dask device and utilities\n",
    "\n",
    "In this section we will import the libraries and dask on pynq class which allow us to:\n",
    "\n",
    "* Download a `xclbin` file to a worker\n",
    "* Peek and poke registers\n",
    "* Allocate buffers\n",
    "* Start kernels\n",
    "\n",
    "All of these capabilities are available for both local and remote workers"
   ]
  },
  {
   "cell_type": "code",
   "execution_count": 2,
   "metadata": {},
   "outputs": [
    {
     "data": {
      "application/javascript": [
       "\n",
       "try {\n",
       "require(['notebook/js/codecell'], function(codecell) {\n",
       "  codecell.CodeCell.options_default.highlight_modes[\n",
       "      'magic_text/x-csrc'] = {'reg':[/^%%microblaze/]};\n",
       "  Jupyter.notebook.events.one('kernel_ready.Kernel', function(){\n",
       "      Jupyter.notebook.get_cells().map(function(cell){\n",
       "          if (cell.cell_type == 'code'){ cell.auto_highlight(); } }) ;\n",
       "  });\n",
       "});\n",
       "} catch (e) {};\n"
      ]
     },
     "metadata": {},
     "output_type": "display_data"
    },
    {
     "data": {
      "application/javascript": [
       "\n",
       "try {\n",
       "require(['notebook/js/codecell'], function(codecell) {\n",
       "  codecell.CodeCell.options_default.highlight_modes[\n",
       "      'magic_text/x-csrc'] = {'reg':[/^%%pybind11/]};\n",
       "  Jupyter.notebook.events.one('kernel_ready.Kernel', function(){\n",
       "      Jupyter.notebook.get_cells().map(function(cell){\n",
       "          if (cell.cell_type == 'code'){ cell.auto_highlight(); } }) ;\n",
       "  });\n",
       "});\n",
       "} catch (e) {};\n"
      ]
     },
     "metadata": {},
     "output_type": "display_data"
    }
   ],
   "source": [
    "from vnx_utils import *\n",
    "import pynq"
   ]
  },
  {
   "cell_type": "markdown",
   "metadata": {},
   "source": [
    "## Download xclbin to workers\n",
    "1. Create Dask device for each worker\n",
    "2. Create an overlay object for each worker, this step will download the `xclbin` file to the Alveo card"
   ]
  },
  {
   "cell_type": "code",
   "execution_count": 3,
   "metadata": {},
   "outputs": [
    {
     "data": {
      "text/plain": [
       "[<pynq.pl_server.xrt_device.XrtDevice at 0x7f2acc627340>]"
      ]
     },
     "execution_count": 3,
     "metadata": {},
     "output_type": "execute_result"
    }
   ],
   "source": [
    "workers = pynq.Device.devices\n",
    "workers"
   ]
  },
  {
   "cell_type": "code",
   "execution_count": 4,
   "metadata": {},
   "outputs": [],
   "source": [
    "xclbin = '/home/ubuntu/Projects/StaRR-NIC/xup_vitis_network_example/benchmark.intf3.xilinx_u280_xdma_201920_3/vnx_benchmark_if3.xclbin'\n",
    "ol_w0 = pynq.Overlay(xclbin, device=workers[0])"
   ]
  },
  {
   "cell_type": "markdown",
   "metadata": {},
   "source": [
    "## Check Link \n",
    "\n",
    "We are going to use the function `linkStatus` that reports if the CMAC is detecting link, which means that the physical connection\n",
    "between the two Alveo cards is established."
   ]
  },
  {
   "cell_type": "code",
   "execution_count": 5,
   "metadata": {},
   "outputs": [
    {
     "name": "stdout",
     "output_type": "stream",
     "text": [
      "Link worker 0_0 {'cmac_link': True}, worker 0_1 {'cmac_link': True}\n"
     ]
    }
   ],
   "source": [
    "print(\"Link worker 0_0 {}, worker 0_1 {}\".format(ol_w0.cmac_0.linkStatus(), ol_w0.cmac_1.linkStatus()))"
   ]
  },
  {
   "cell_type": "markdown",
   "metadata": {},
   "source": [
    "## Configure IP address of the Alveo cards\n",
    "In the next cell we are going to configure the IP address of the two Alveo cards"
   ]
  },
  {
   "cell_type": "code",
   "execution_count": 6,
   "metadata": {},
   "outputs": [
    {
     "name": "stdout",
     "output_type": "stream",
     "text": [
      "Worker 0_0: {'HWaddr': '00:0a:35:02:9d:2f', 'inet addr': '10.0.0.47', 'gateway addr': '10.0.0.1', 'Mask': '255.255.255.0'}\n",
      "Worker 0_1: {'HWaddr': '00:0a:35:02:9d:2d', 'inet addr': '10.0.0.45', 'gateway addr': '10.0.0.1', 'Mask': '255.255.255.0'}\n"
     ]
    }
   ],
   "source": [
    "ip_w0_0, ip_w0_1 = '10.0.0.47', '10.0.0.45'\n",
    "if_status_w0_0 = ol_w0.networklayer_0.updateIPAddress(ip_w0_0, debug=True)\n",
    "if_status_w0_1 = ol_w0.networklayer_0.updateIPAddress(ip_w0_1, debug=True)\n",
    "print(\"Worker 0_0: {}\\nWorker 0_1: {}\".format(if_status_w0_0, if_status_w0_1))"
   ]
  },
  {
   "cell_type": "markdown",
   "metadata": {},
   "source": [
    "### Remote params"
   ]
  },
  {
   "cell_type": "code",
   "execution_count": 7,
   "metadata": {},
   "outputs": [],
   "source": [
    "n3_data = {\n",
    "    'ip_tx_0': '10.0.0.55',\n",
    "    'ip_rx_1': '10.0.0.57',\n",
    "    'mac_rx_1': '00:0a:35:bd:11:be',\n",
    "    'mac_tx_0': '00:0a:35:dd:4b:c4'\n",
    "}\n",
    "\n",
    "tx_src_port, tx_dst_port = 60512, 62177\n",
    "tx_dst_ip = n3_data['ip_rx_1']\n",
    "tx_dst_mac = n3_data['mac_rx_1']"
   ]
  },
  {
   "cell_type": "markdown",
   "metadata": {},
   "source": [
    "### Configure local Alveo\n",
    "\n",
    "1. Set up connection table\n",
    "2. Launch ARP discovery\n",
    "3. Print out ARP Table "
   ]
  },
  {
   "cell_type": "code",
   "execution_count": 8,
   "metadata": {},
   "outputs": [
    {
     "data": {
      "text/plain": [
       "{57: {'MAC address': '00:0a:35:bd:11:be', 'IP address': '10.0.0.57'},\n",
       " 61: {'MAC address': '40:a6:b7:22:ab:89', 'IP address': '10.0.0.61'},\n",
       " 63: {'MAC address': '40:a6:b7:22:ab:89', 'IP address': '10.0.0.63'}}"
      ]
     },
     "execution_count": 8,
     "metadata": {},
     "output_type": "execute_result"
    }
   ],
   "source": [
    "ol_w0.networklayer_0.resetDebugProbes()\n",
    "ol_w0.networklayer_0.sockets[2] = (tx_dst_ip, tx_dst_port, tx_src_port, True)\n",
    "ol_w0.networklayer_0.populateSocketTable()\n",
    "\n",
    "ol_w0.networklayer_0.invalidateARPTable()\n",
    "ol_w0.networklayer_0.arpDiscovery()\n",
    "ol_w0.networklayer_0.write_arp_entry(tx_dst_mac, tx_dst_ip)\n",
    "ol_w0.networklayer_0.readARPTable()"
   ]
  },
  {
   "cell_type": "code",
   "execution_count": 9,
   "metadata": {},
   "outputs": [
    {
     "data": {
      "text/plain": [
       "{47: {'MAC address': '00:0a:35:02:9d:2f', 'IP address': '10.0.0.47'},\n",
       " 55: {'MAC address': '00:0a:35:dd:4b:c4', 'IP address': '10.0.0.55'},\n",
       " 57: {'MAC address': '00:0a:35:bd:11:be', 'IP address': '10.0.0.57'},\n",
       " 61: {'MAC address': '40:a6:b7:22:ab:89', 'IP address': '10.0.0.61'},\n",
       " 63: {'MAC address': '40:a6:b7:22:ab:89', 'IP address': '10.0.0.63'}}"
      ]
     },
     "execution_count": 9,
     "metadata": {},
     "output_type": "execute_result"
    }
   ],
   "source": [
    "ol_w0.networklayer_1.resetDebugProbes()\n",
    "ol_w0.networklayer_1.populateSocketTable()\n",
    "\n",
    "ol_w0.networklayer_1.arpDiscovery()\n",
    "ol_w0.networklayer_1.readARPTable()"
   ]
  },
  {
   "cell_type": "code",
   "execution_count": 10,
   "metadata": {},
   "outputs": [
    {
     "data": {
      "text/plain": [
       "array([('',     0,     0, False), ('',     0,     0, False),\n",
       "       ('10.0.0.57', 62177, 60512,  True), ('',     0,     0, False),\n",
       "       ('',     0,     0, False), ('',     0,     0, False),\n",
       "       ('',     0,     0, False), ('',     0,     0, False),\n",
       "       ('',     0,     0, False), ('',     0,     0, False),\n",
       "       ('',     0,     0, False), ('',     0,     0, False),\n",
       "       ('',     0,     0, False), ('',     0,     0, False),\n",
       "       ('',     0,     0, False), ('',     0,     0, False)],\n",
       "      dtype=[('theirIP', '<U16'), ('theirPort', '<u2'), ('myPort', '<u2'), ('valid', '?')])"
      ]
     },
     "execution_count": 10,
     "metadata": {},
     "output_type": "execute_result"
    }
   ],
   "source": [
    "ol_w0.networklayer_0.sockets"
   ]
  },
  {
   "cell_type": "code",
   "execution_count": 15,
   "metadata": {},
   "outputs": [
    {
     "data": {
      "application/json": {
       "rx_path": {
        "app": {
         "bytes": 0,
         "cycles": 0,
         "packets": 0
        },
        "arp": {
         "bytes": 0,
         "cycles": 0,
         "packets": 0
        },
        "ethernet": {
         "bytes": 793439820,
         "cycles": 674435222,
         "packets": 13223551
        },
        "icmp": {
         "bytes": 0,
         "cycles": 0,
         "packets": 0
        },
        "packet_handler": {
         "bytes": 608331922,
         "cycles": 674463678,
         "packets": 13224424
        },
        "udp": {
         "bytes": 608407040,
         "cycles": 674546911,
         "packets": 13226054
        }
       },
       "tx_path": {
        "app": {
         "bytes": 238124322,
         "cycles": 674693179,
         "packets": 13228973
        },
        "arp": {
         "bytes": 0,
         "cycles": 0,
         "packets": 0
        },
        "ethernet": {
         "bytes": 793719660,
         "cycles": 674669413,
         "packets": 13228499
        },
        "ethernet_header_inserter": {
         "bytes": 793691520,
         "cycles": 674645341,
         "packets": 13228033
        },
        "icmp": {
         "bytes": 0,
         "cycles": 0,
         "packets": 0
        },
        "udp": {
         "bytes": 608561186,
         "cycles": 674716741,
         "packets": 13229435
        }
       }
      },
      "text/plain": [
       "{'tx_path': {'arp': {'packets': 0, 'bytes': 0, 'cycles': 0},\n",
       "  'icmp': {'packets': 0, 'bytes': 0, 'cycles': 0},\n",
       "  'ethernet_header_inserter': {'packets': 13228033,\n",
       "   'bytes': 793691520,\n",
       "   'cycles': 674645341},\n",
       "  'ethernet': {'packets': 13228499, 'bytes': 793719660, 'cycles': 674669413},\n",
       "  'app': {'packets': 13228973, 'bytes': 238124322, 'cycles': 674693179},\n",
       "  'udp': {'packets': 13229435, 'bytes': 608561186, 'cycles': 674716741}},\n",
       " 'rx_path': {'ethernet': {'packets': 13223551,\n",
       "   'bytes': 793439820,\n",
       "   'cycles': 674435222},\n",
       "  'packet_handler': {'packets': 13224424,\n",
       "   'bytes': 608331922,\n",
       "   'cycles': 674463678},\n",
       "  'arp': {'packets': 0, 'bytes': 0, 'cycles': 0},\n",
       "  'icmp': {'packets': 0, 'bytes': 0, 'cycles': 0},\n",
       "  'udp': {'packets': 13226054, 'bytes': 608407040, 'cycles': 674546911},\n",
       "  'app': {'packets': 0, 'bytes': 0, 'cycles': 0}}}"
      ]
     },
     "execution_count": 15,
     "metadata": {
      "application/json": {
       "expanded": false,
       "root": "debug_probes"
      }
     },
     "output_type": "execute_result"
    }
   ],
   "source": [
    "ol_w0.networklayer_0.getDebugProbes"
   ]
  },
  {
   "cell_type": "code",
   "execution_count": 16,
   "metadata": {},
   "outputs": [
    {
     "data": {
      "text/plain": [
       "RegisterMap {\n",
       "  CTRL = Register(AP_START=1, AP_DONE=0, AP_IDLE=0, AP_READY=0, AUTO_RESTART=0),\n",
       "  mode = Register(value=1),\n",
       "  dest_id = Register(value=2),\n",
       "  number_packets = Register(value=16777216),\n",
       "  number_beats = Register(value=1),\n",
       "  time_between_packets = Register(value=50),\n",
       "  reset_fsm = Register(value=0),\n",
       "  debug_fsms = Register(value=7),\n",
       "  out_traffic_cycles = Register(value=855637966),\n",
       "  out_traffic_bytes = Register(value=301989888),\n",
       "  out_traffic_packets = Register(value=16777216),\n",
       "  in_traffic_cycles = Register(value=0),\n",
       "  in_traffic_bytes = Register(value=0),\n",
       "  in_traffic_packets = Register(value=0),\n",
       "  summary_cycles = Register(value=1),\n",
       "  summary_bytes = Register(value=16),\n",
       "  summary_packets = Register(value=1),\n",
       "  debug_reset = Register(value=0)\n",
       "}"
      ]
     },
     "execution_count": 16,
     "metadata": {},
     "output_type": "execute_result"
    }
   ],
   "source": [
    "ol_w0.traffic_generator_0_2.register_map"
   ]
  },
  {
   "cell_type": "markdown",
   "metadata": {},
   "source": [
    "## Configure application"
   ]
  },
  {
   "cell_type": "markdown",
   "metadata": {},
   "source": [
    "### Configure local benchmark application\n",
    "This part configures the collector, in particular\n",
    "* Allocate buffers\n",
    "* Start collector"
   ]
  },
  {
   "cell_type": "code",
   "execution_count": null,
   "metadata": {},
   "outputs": [],
   "source": [
    "ol_w0_tg.register_map.reset_fsm = 1\n",
    "ol_w0_tg.register_map.debug_reset = 1\n",
    "ol_w0_tg.register_map.reset_fsm = 0"
   ]
  },
  {
   "cell_type": "code",
   "execution_count": 13,
   "metadata": {},
   "outputs": [],
   "source": [
    "send_packets   = 2 ** 24\n",
    "shape          = (send_packets,1)\n",
    "rtt_cycles     = pynq.allocate(shape, dtype=np.uint32, target=ol_w0.HBM0)\n",
    "pkt            = pynq.allocate(1,     dtype=np.uint32, target=ol_w0.HBM0)\n",
    "\n",
    "collector_h = ol_w0.collector_0_2.start(rtt_cycles,pkt)"
   ]
  },
  {
   "cell_type": "markdown",
   "metadata": {},
   "source": [
    "\n",
    "**This part configures the traffic generator** `traffic_generator_0_2`"
   ]
  },
  {
   "cell_type": "code",
   "execution_count": 14,
   "metadata": {},
   "outputs": [],
   "source": [
    "send_pkts = send_packets\n",
    "ol_w0_tg = ol_w0.traffic_generator_0_2\n",
    "ol_w0_tg.register_map.debug_reset = 1\n",
    "ol_w0.networklayer_0.register_map.debug_reset_counters = 1\n",
    "ol_w0_tg.register_map.mode = benchmark_mode.index('LATENCY')\n",
    "ol_w0_tg.register_map.number_packets = send_pkts\n",
    "ol_w0_tg.register_map.time_between_packets = 50\n",
    "ol_w0_tg.register_map.number_beats = 1\n",
    "ol_w0_tg.register_map.dest_id = 2\n",
    "ol_w0_tg.register_map.CTRL.AP_START = 1"
   ]
  },
  {
   "cell_type": "markdown",
   "metadata": {},
   "source": [
    "## Read latency result\n",
    "* Call the dask method to synchronize the Alveo buffer with the dask buffer\n",
    "\n",
    "Note that this buffer contains the round trip time in clock cycles"
   ]
  },
  {
   "cell_type": "code",
   "execution_count": null,
   "metadata": {},
   "outputs": [],
   "source": [
    "rtt_cycles.sync_from_device()\n",
    "rtt_cycles"
   ]
  },
  {
   "cell_type": "code",
   "execution_count": null,
   "metadata": {},
   "outputs": [],
   "source": [
    "len(rtt_cycles)"
   ]
  },
  {
   "cell_type": "markdown",
   "metadata": {},
   "source": [
    "## Compute some statistics on the results\n",
    "1. Convert the rtt from cycles to microseconds, get clock frequency by querying `.clock_dict['clock0']['frequency']`"
   ]
  },
  {
   "cell_type": "code",
   "execution_count": null,
   "metadata": {},
   "outputs": [],
   "source": [
    "freq = int(ol_w0.clock_dict['clock0']['frequency'])\n",
    "rtt_usec = np.array(shape, dtype=np.float)\n",
    "rtt_usec= rtt_cycles / freq  # convert to microseconds"
   ]
  },
  {
   "cell_type": "markdown",
   "metadata": {},
   "source": [
    "2. Use `scipy` to compute statistical values\n",
    "    * Mean\n",
    "    * Standard deviation\n",
    "    * Mode"
   ]
  },
  {
   "cell_type": "code",
   "execution_count": null,
   "metadata": {},
   "outputs": [],
   "source": [
    "from scipy import stats\n",
    "mean, std_dev, mode = np.mean(rtt_usec), np.std(rtt_usec), stats.mode(rtt_usec)\n",
    "print(\"Round trip time at application level using {:,} packets\".format(len(rtt_usec)))\n",
    "print(\"\\tmean    = {:.3f} us\\n\\tstd_dev = {:.6f} us\".format(mean,std_dev))\n",
    "print(\"\\tmode    = {:.3f} us, which appears {:,} times\".format(mode[0][0][0],mode[1][0][0]))\n",
    "print(\"\\tmax     = {:.3f} us\".format(np.max(rtt_usec)))\n",
    "print(\"\\tmin     = {:.3f} us\".format(np.min(rtt_usec)))"
   ]
  },
  {
   "cell_type": "markdown",
   "metadata": {},
   "source": [
    "## Plot Box and whisker graph"
   ]
  },
  {
   "cell_type": "code",
   "execution_count": null,
   "metadata": {},
   "outputs": [],
   "source": [
    "%matplotlib inline\n",
    "import matplotlib.pyplot as plt\n",
    "\n",
    "red_square = dict(markerfacecolor='r', marker='s')\n",
    "fig, ax = plt.subplots()\n",
    "ax.set_title('RTT Box and whisker plot')\n",
    "ax.set_xlabel('Round Trip Time (microsecond)')\n",
    "ax.set_yticklabels([''])\n",
    "fig.set_size_inches(18, 2)\n",
    "ax.boxplot(rtt_usec, vert=False, flierprops=red_square)"
   ]
  },
  {
   "cell_type": "code",
   "execution_count": null,
   "metadata": {},
   "outputs": [],
   "source": [
    "fig, ax = plt.subplots()\n",
    "ax.plot(rtt_cycles)"
   ]
  },
  {
   "cell_type": "markdown",
   "metadata": {},
   "source": [
    "## Release Alveo cards\n",
    "* To release the alveo cards the pynq overlay is freed\n",
    "* Delete dask pynq-dask buffers"
   ]
  },
  {
   "cell_type": "code",
   "execution_count": null,
   "metadata": {},
   "outputs": [],
   "source": [
    "del rtt_cycles\n",
    "del pkt\n",
    "pynq.Overlay.free(ol_w0)"
   ]
  },
  {
   "cell_type": "markdown",
   "metadata": {},
   "source": [
    "------------------------------------------\n",
    "Copyright (c) 2020-2021, Xilinx, Inc."
   ]
  }
 ],
 "metadata": {
  "kernelspec": {
   "display_name": "Python 3 (ipykernel)",
   "language": "python",
   "name": "python3"
  },
  "language_info": {
   "codemirror_mode": {
    "name": "ipython",
    "version": 3
   },
   "file_extension": ".py",
   "mimetype": "text/x-python",
   "name": "python",
   "nbconvert_exporter": "python",
   "pygments_lexer": "ipython3",
   "version": "3.9.7"
  }
 },
 "nbformat": 4,
 "nbformat_minor": 4
}
