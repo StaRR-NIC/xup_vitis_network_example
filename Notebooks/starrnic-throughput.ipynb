{
 "cells": [
  {
   "cell_type": "markdown",
   "metadata": {},
   "source": [
    "# Benchmark Throughput experiment (Switch)\n",
    "This notebook will show you how to measure the throughput between two Alveo nodes using the benchmark application with UDP as a transport protocol.\n",
    "We are going to rely on a Dask cluster to configure the local and remote Alveo cards.\n",
    "\n",
    "This notebook assumes:\n",
    "* The Alveo cards are connected to a switch\n",
    "* Dask cluster is already created and running. For more information about setting up a Dask cluster visit the [Dask documentation](https://docs.dask.org/en/latest/setup.html)"
   ]
  },
  {
   "cell_type": "code",
   "execution_count": 1,
   "metadata": {},
   "outputs": [
    {
     "data": {
      "application/javascript": [
       "\n",
       "try {\n",
       "require(['notebook/js/codecell'], function(codecell) {\n",
       "  codecell.CodeCell.options_default.highlight_modes[\n",
       "      'magic_text/x-csrc'] = {'reg':[/^%%microblaze/]};\n",
       "  Jupyter.notebook.events.one('kernel_ready.Kernel', function(){\n",
       "      Jupyter.notebook.get_cells().map(function(cell){\n",
       "          if (cell.cell_type == 'code'){ cell.auto_highlight(); } }) ;\n",
       "  });\n",
       "});\n",
       "} catch (e) {};\n"
      ]
     },
     "metadata": {},
     "output_type": "display_data"
    },
    {
     "data": {
      "application/javascript": [
       "\n",
       "try {\n",
       "require(['notebook/js/codecell'], function(codecell) {\n",
       "  codecell.CodeCell.options_default.highlight_modes[\n",
       "      'magic_text/x-csrc'] = {'reg':[/^%%pybind11/]};\n",
       "  Jupyter.notebook.events.one('kernel_ready.Kernel', function(){\n",
       "      Jupyter.notebook.get_cells().map(function(cell){\n",
       "          if (cell.cell_type == 'code'){ cell.auto_highlight(); } }) ;\n",
       "  });\n",
       "});\n",
       "} catch (e) {};\n"
      ]
     },
     "metadata": {},
     "output_type": "display_data"
    }
   ],
   "source": [
    "from vnx_utils import *\n",
    "import pynq"
   ]
  },
  {
   "cell_type": "code",
   "execution_count": 2,
   "metadata": {},
   "outputs": [],
   "source": [
    "import sys\n",
    "import os"
   ]
  },
  {
   "cell_type": "code",
   "execution_count": 3,
   "metadata": {},
   "outputs": [],
   "source": [
    "workers = pynq.Device.devices"
   ]
  },
  {
   "cell_type": "markdown",
   "metadata": {},
   "source": [
    "## Download xclbin to Alveo cards\n",
    "1. Create Dask device for each worker\n",
    "2. Create an overlay object for each worker, this step will download the `xclbin` file to the Alveo card"
   ]
  },
  {
   "cell_type": "code",
   "execution_count": 4,
   "metadata": {},
   "outputs": [],
   "source": [
    "xclbin = '/home/ubuntu/Projects/StaRR-NIC/xup_vitis_network_example/benchmark.intf3.xilinx_u280_xdma_201920_3/vnx_benchmark_if3.xclbin'\n",
    "ol_w0 = pynq.Overlay(xclbin, device=workers[0])"
   ]
  },
  {
   "cell_type": "markdown",
   "metadata": {},
   "source": [
    "## Check Link \n",
    "\n",
    "We are going to use the function `linkStatus` that reports if the CMAC is detecting link, which means that the physical connection\n",
    "between each Alveo card and the switch is established."
   ]
  },
  {
   "cell_type": "code",
   "execution_count": 5,
   "metadata": {},
   "outputs": [
    {
     "name": "stdout",
     "output_type": "stream",
     "text": [
      "Link worker 0_0 {'cmac_link': True}, worker 0_1 {'cmac_link': True}\n"
     ]
    }
   ],
   "source": [
    "print(\"Link worker 0_0 {}, worker 0_1 {}\".format(ol_w0.cmac_0.linkStatus(), ol_w0.cmac_1.linkStatus()))"
   ]
  },
  {
   "cell_type": "markdown",
   "metadata": {},
   "source": [
    "## Configure IP address of the Alveo cards\n",
    "In the next cell we are going to configure the IP address of the two Alveo cards"
   ]
  },
  {
   "cell_type": "code",
   "execution_count": 6,
   "metadata": {},
   "outputs": [
    {
     "name": "stdout",
     "output_type": "stream",
     "text": [
      "Worker 0_0: {'HWaddr': '00:0a:35:02:9d:2f', 'inet addr': '10.0.0.47', 'gateway addr': '10.0.0.1', 'Mask': '255.255.255.0'}\n",
      "Worker 0_1: {'HWaddr': '00:0a:35:02:9d:2d', 'inet addr': '10.0.0.45', 'gateway addr': '10.0.0.1', 'Mask': '255.255.255.0'}\n"
     ]
    }
   ],
   "source": [
    "ip_w0_0, ip_w0_1 = '10.0.0.47', '10.0.0.45'\n",
    "if_status_w0_0 = ol_w0.networklayer_0.updateIPAddress(ip_w0_0, debug=True)\n",
    "if_status_w0_1 = ol_w0.networklayer_1.updateIPAddress(ip_w0_1, debug=True)\n",
    "print(\"Worker 0_0: {}\\nWorker 0_1: {}\".format(if_status_w0_0, if_status_w0_1))"
   ]
  },
  {
   "cell_type": "markdown",
   "metadata": {},
   "source": [
    "## One way experiment with XL710"
   ]
  },
  {
   "cell_type": "code",
   "execution_count": 7,
   "metadata": {},
   "outputs": [],
   "source": [
    "n3_data = {\n",
    "    'ip_tx_0': '10.0.0.55',\n",
    "    'ip_rx_1': '10.0.0.57',\n",
    "    'mac_rx_1': '00:0a:35:86:00:01',\n",
    "    'mac_tx_0': '00:0a:35:86:00:00',\n",
    "    'sport': 64000,\n",
    "    'dport': 64001,\n",
    "}\n",
    "\n",
    "tx_src_port, tx_dst_port = 60512, 62177\n",
    "tx_dst_ip = n3_data['ip_rx_1']\n",
    "tx_dst_mac = n3_data['mac_rx_1']\n",
    "\n",
    "# The ports are from the reference of n5 (not in the packet)\n",
    "rx_src_port, rx_dst_port = n3_data['dport'], n3_data['sport']\n",
    "rx_src_ip = n3_data['ip_tx_0']\n",
    "rx_src_mac = n3_data['mac_tx_0']"
   ]
  },
  {
   "cell_type": "markdown",
   "metadata": {},
   "source": [
    "### Configure port 0\n",
    "\n",
    "1. Set up connection table\n",
    "2. Launch ARP discovery\n",
    "3. Print out ARP Table "
   ]
  },
  {
   "cell_type": "code",
   "execution_count": 8,
   "metadata": {},
   "outputs": [
    {
     "data": {
      "text/plain": [
       "{45: {'MAC address': '00:0a:35:02:9d:2d', 'IP address': '10.0.0.45'},\n",
       " 55: {'MAC address': '00:0a:35:86:00:00', 'IP address': '10.0.0.55'},\n",
       " 57: {'MAC address': '00:0a:35:86:00:01', 'IP address': '10.0.0.57'},\n",
       " 61: {'MAC address': '40:a6:b7:22:ab:88', 'IP address': '10.0.0.61'},\n",
       " 63: {'MAC address': '40:a6:b7:22:ab:88', 'IP address': '10.0.0.63'}}"
      ]
     },
     "execution_count": 8,
     "metadata": {},
     "output_type": "execute_result"
    }
   ],
   "source": [
    "ol_w0.networklayer_0.resetDebugProbes()\n",
    "ol_w0.networklayer_0.sockets[12] = (tx_dst_ip, tx_dst_port, tx_src_port, True)\n",
    "ol_w0.networklayer_0.sockets[1] = (rx_src_ip, rx_dst_port, rx_src_port, True)\n",
    "ol_w0.networklayer_0.populateSocketTable()\n",
    "\n",
    "ol_w0.networklayer_0.invalidateARPTable()\n",
    "ol_w0.networklayer_0.arpDiscovery()\n",
    "ol_w0.networklayer_0.write_arp_entry(tx_dst_mac, tx_dst_ip)\n",
    "ol_w0.networklayer_0.write_arp_entry(rx_src_mac, rx_src_ip)\n",
    "ol_w0.networklayer_0.readARPTable()"
   ]
  },
  {
   "cell_type": "code",
   "execution_count": 9,
   "metadata": {},
   "outputs": [
    {
     "data": {
      "application/json": {
       "rx_path": {
        "app": {
         "bytes": 0,
         "cycles": 0,
         "packets": 0
        },
        "arp": {
         "bytes": 180,
         "cycles": 46573,
         "packets": 3
        },
        "ethernet": {
         "bytes": 180,
         "cycles": 46573,
         "packets": 3
        },
        "icmp": {
         "bytes": 0,
         "cycles": 0,
         "packets": 0
        },
        "packet_handler": {
         "bytes": 180,
         "cycles": 46573,
         "packets": 3
        },
        "udp": {
         "bytes": 0,
         "cycles": 0,
         "packets": 0
        }
       },
       "tx_path": {
        "app": {
         "bytes": 0,
         "cycles": 0,
         "packets": 0
        },
        "arp": {
         "bytes": 15360,
         "cycles": 2041,
         "packets": 256
        },
        "ethernet": {
         "bytes": 15360,
         "cycles": 2041,
         "packets": 256
        },
        "ethernet_header_inserter": {
         "bytes": 0,
         "cycles": 0,
         "packets": 0
        },
        "icmp": {
         "bytes": 0,
         "cycles": 0,
         "packets": 0
        },
        "udp": {
         "bytes": 0,
         "cycles": 0,
         "packets": 0
        }
       }
      },
      "text/plain": [
       "{'tx_path': {'arp': {'packets': 256, 'bytes': 15360, 'cycles': 2041},\n",
       "  'icmp': {'packets': 0, 'bytes': 0, 'cycles': 0},\n",
       "  'ethernet_header_inserter': {'packets': 0, 'bytes': 0, 'cycles': 0},\n",
       "  'ethernet': {'packets': 256, 'bytes': 15360, 'cycles': 2041},\n",
       "  'app': {'packets': 0, 'bytes': 0, 'cycles': 0},\n",
       "  'udp': {'packets': 0, 'bytes': 0, 'cycles': 0}},\n",
       " 'rx_path': {'ethernet': {'packets': 3, 'bytes': 180, 'cycles': 46573},\n",
       "  'packet_handler': {'packets': 3, 'bytes': 180, 'cycles': 46573},\n",
       "  'arp': {'packets': 3, 'bytes': 180, 'cycles': 46573},\n",
       "  'icmp': {'packets': 0, 'bytes': 0, 'cycles': 0},\n",
       "  'udp': {'packets': 0, 'bytes': 0, 'cycles': 0},\n",
       "  'app': {'packets': 0, 'bytes': 0, 'cycles': 0}}}"
      ]
     },
     "execution_count": 9,
     "metadata": {
      "application/json": {
       "expanded": false,
       "root": "debug_probes"
      }
     },
     "output_type": "execute_result"
    }
   ],
   "source": [
    "ol_w0.networklayer_0.getDebugProbes"
   ]
  },
  {
   "cell_type": "markdown",
   "metadata": {},
   "source": [
    "### Configure port 1\n",
    "\n",
    "1. Set up connection table\n",
    "2. Launch ARP discovery\n",
    "3. Print out ARP Table "
   ]
  },
  {
   "cell_type": "code",
   "execution_count": 10,
   "metadata": {},
   "outputs": [
    {
     "data": {
      "text/plain": [
       "{47: {'MAC address': '00:0a:35:02:9d:2f', 'IP address': '10.0.0.47'},\n",
       " 55: {'MAC address': '00:0a:35:86:00:00', 'IP address': '10.0.0.55'},\n",
       " 57: {'MAC address': '00:0a:35:86:00:01', 'IP address': '10.0.0.57'},\n",
       " 61: {'MAC address': '40:a6:b7:22:ab:88', 'IP address': '10.0.0.61'},\n",
       " 63: {'MAC address': '40:a6:b7:22:ab:88', 'IP address': '10.0.0.63'}}"
      ]
     },
     "execution_count": 10,
     "metadata": {},
     "output_type": "execute_result"
    }
   ],
   "source": [
    "ol_w0.networklayer_1.resetDebugProbes()\n",
    "ol_w0.networklayer_1.sockets[1] = (rx_src_ip, rx_dst_port, rx_src_port, True)\n",
    "ol_w0.networklayer_1.populateSocketTable()\n",
    "\n",
    "ol_w0.networklayer_1.invalidateARPTable()\n",
    "ol_w0.networklayer_1.arpDiscovery()\n",
    "ol_w0.networklayer_1.write_arp_entry(tx_dst_mac, tx_dst_ip)\n",
    "ol_w0.networklayer_1.write_arp_entry(rx_src_mac, rx_src_ip)\n",
    "ol_w0.networklayer_1.readARPTable()"
   ]
  },
  {
   "cell_type": "code",
   "execution_count": 11,
   "metadata": {},
   "outputs": [
    {
     "data": {
      "application/json": {
       "rx_path": {
        "app": {
         "bytes": 0,
         "cycles": 0,
         "packets": 0
        },
        "arp": {
         "bytes": 180,
         "cycles": 47699,
         "packets": 3
        },
        "ethernet": {
         "bytes": 180,
         "cycles": 47699,
         "packets": 3
        },
        "icmp": {
         "bytes": 0,
         "cycles": 0,
         "packets": 0
        },
        "packet_handler": {
         "bytes": 180,
         "cycles": 47699,
         "packets": 3
        },
        "udp": {
         "bytes": 0,
         "cycles": 0,
         "packets": 0
        }
       },
       "tx_path": {
        "app": {
         "bytes": 0,
         "cycles": 0,
         "packets": 0
        },
        "arp": {
         "bytes": 15360,
         "cycles": 2043,
         "packets": 256
        },
        "ethernet": {
         "bytes": 15360,
         "cycles": 2043,
         "packets": 256
        },
        "ethernet_header_inserter": {
         "bytes": 0,
         "cycles": 0,
         "packets": 0
        },
        "icmp": {
         "bytes": 0,
         "cycles": 0,
         "packets": 0
        },
        "udp": {
         "bytes": 0,
         "cycles": 0,
         "packets": 0
        }
       }
      },
      "text/plain": [
       "{'tx_path': {'arp': {'packets': 256, 'bytes': 15360, 'cycles': 2043},\n",
       "  'icmp': {'packets': 0, 'bytes': 0, 'cycles': 0},\n",
       "  'ethernet_header_inserter': {'packets': 0, 'bytes': 0, 'cycles': 0},\n",
       "  'ethernet': {'packets': 256, 'bytes': 15360, 'cycles': 2043},\n",
       "  'app': {'packets': 0, 'bytes': 0, 'cycles': 0},\n",
       "  'udp': {'packets': 0, 'bytes': 0, 'cycles': 0}},\n",
       " 'rx_path': {'ethernet': {'packets': 3, 'bytes': 180, 'cycles': 47699},\n",
       "  'packet_handler': {'packets': 3, 'bytes': 180, 'cycles': 47699},\n",
       "  'arp': {'packets': 3, 'bytes': 180, 'cycles': 47699},\n",
       "  'icmp': {'packets': 0, 'bytes': 0, 'cycles': 0},\n",
       "  'udp': {'packets': 0, 'bytes': 0, 'cycles': 0},\n",
       "  'app': {'packets': 0, 'bytes': 0, 'cycles': 0}}}"
      ]
     },
     "execution_count": 11,
     "metadata": {
      "application/json": {
       "expanded": false,
       "root": "debug_probes"
      }
     },
     "output_type": "execute_result"
    }
   ],
   "source": [
    "ol_w0.networklayer_1.getDebugProbes"
   ]
  },
  {
   "cell_type": "markdown",
   "metadata": {},
   "source": [
    "## Configure application\n",
    "* Configure port 1 traffic generator 1 in `CONSUMER` mode"
   ]
  },
  {
   "cell_type": "code",
   "execution_count": 12,
   "metadata": {},
   "outputs": [],
   "source": [
    "ol_w0_1_tg = ol_w0.traffic_generator_1_1\n",
    "ol_w0_1_tg.register_map.debug_reset = 1\n",
    "ol_w0_1_tg.register_map.mode = benchmark_mode.index('CONSUMER')\n",
    "ol_w0_1_tg.register_map.CTRL.AP_START = 1\n",
    "ol_w0_1_tg.resetProbes()"
   ]
  },
  {
   "cell_type": "code",
   "execution_count": 13,
   "metadata": {},
   "outputs": [
    {
     "data": {
      "text/plain": [
       "RegisterMap {\n",
       "  CTRL = Register(AP_START=0, AP_DONE=0, AP_IDLE=1, AP_READY=0, AUTO_RESTART=0),\n",
       "  mode = Register(value=3),\n",
       "  dest_id = Register(value=0),\n",
       "  number_packets = Register(value=0),\n",
       "  number_beats = Register(value=0),\n",
       "  time_between_packets = Register(value=0),\n",
       "  reset_fsm = Register(value=0),\n",
       "  debug_fsms = Register(value=0),\n",
       "  out_traffic_cycles = Register(value=0),\n",
       "  out_traffic_bytes = Register(value=0),\n",
       "  out_traffic_packets = Register(value=0),\n",
       "  in_traffic_cycles = Register(value=0),\n",
       "  in_traffic_bytes = Register(value=0),\n",
       "  in_traffic_packets = Register(value=0),\n",
       "  summary_cycles = Register(value=0),\n",
       "  summary_bytes = Register(value=0),\n",
       "  summary_packets = Register(value=0),\n",
       "  debug_reset = Register(value=0)\n",
       "}"
      ]
     },
     "execution_count": 13,
     "metadata": {},
     "output_type": "execute_result"
    }
   ],
   "source": [
    "ol_w0_1_tg.register_map"
   ]
  },
  {
   "cell_type": "code",
   "execution_count": 14,
   "metadata": {
    "scrolled": false
   },
   "outputs": [],
   "source": [
    "# for i in range(2):\n",
    "#     for j in range(4):\n",
    "#         ol_tg = getattr(ol_w0, 'traffic_generator_{}_{}'.format(i, j))\n",
    "#         print(ol_tg.register_map)"
   ]
  },
  {
   "cell_type": "markdown",
   "metadata": {},
   "source": [
    "* Configure port 0 traffic generator 0\n",
    "* Run the application for different packet sizes\n",
    "* Compute and store results for both local (Tx) and remote (Rx)"
   ]
  },
  {
   "cell_type": "code",
   "execution_count": 15,
   "metadata": {},
   "outputs": [
    {
     "data": {
      "text/plain": [
       "294"
      ]
     },
     "execution_count": 15,
     "metadata": {},
     "output_type": "execute_result"
    }
   ],
   "source": [
    "import time\n",
    "freq = int(ol_w0.clock_dict['clock0']['frequency'])\n",
    "freq"
   ]
  },
  {
   "cell_type": "code",
   "execution_count": 16,
   "metadata": {},
   "outputs": [],
   "source": [
    "ol_w0_0_tg = ol_w0.traffic_generator_0_3\n",
    "experiment_dict = {}\n",
    "local_dict = {}\n",
    "ol_w0_0_tg.register_map.mode = benchmark_mode.index('PRODUCER')\n",
    "ol_w0_0_tg.register_map.dest_id = 12\n",
    "ol_w0_0_tg.resetProbes()\n",
    "ol_w0_1_tg.freq = freq\n",
    "ol_w0_0_tg.freq = freq"
   ]
  },
  {
   "cell_type": "code",
   "execution_count": 17,
   "metadata": {},
   "outputs": [
    {
     "data": {
      "text/plain": [
       "RegisterMap {\n",
       "  CTRL = Register(AP_START=0, AP_DONE=0, AP_IDLE=1, AP_READY=0, AUTO_RESTART=0),\n",
       "  mode = Register(value=0),\n",
       "  dest_id = Register(value=12),\n",
       "  number_packets = Register(value=6960000000),\n",
       "  number_beats = Register(value=2),\n",
       "  time_between_packets = Register(value=0),\n",
       "  reset_fsm = Register(value=0),\n",
       "  debug_fsms = Register(value=0),\n",
       "  out_traffic_cycles = Register(value=0),\n",
       "  out_traffic_bytes = Register(value=0),\n",
       "  out_traffic_packets = Register(value=0),\n",
       "  in_traffic_cycles = Register(value=0),\n",
       "  in_traffic_bytes = Register(value=0),\n",
       "  in_traffic_packets = Register(value=0),\n",
       "  summary_cycles = Register(value=0),\n",
       "  summary_bytes = Register(value=0),\n",
       "  summary_packets = Register(value=0),\n",
       "  debug_reset = Register(value=0)\n",
       "}"
      ]
     },
     "execution_count": 17,
     "metadata": {},
     "output_type": "execute_result"
    }
   ],
   "source": [
    "ol_w0_0_tg.register_map"
   ]
  },
  {
   "cell_type": "code",
   "execution_count": 18,
   "metadata": {
    "scrolled": true
   },
   "outputs": [],
   "source": [
    "beats = 2\n",
    "payload = beats * 64\n",
    "pkt = 10_000\n",
    "ol_w0_0_tg.register_map.debug_reset = 1\n",
    "ol_w0_1_tg.register_map.debug_reset = 1\n",
    "ol_w0_0_tg.register_map.time_between_packets = 0\n",
    "ol_w0_0_tg.register_map.number_packets = pkt\n",
    "local_dict = {}\n",
    "ol_w0_0_tg.register_map.number_beats = beats\n",
    "ol_w0_0_tg.register_map.CTRL.AP_START = 1\n",
    "while int(ol_w0_0_tg.register_map.out_traffic_packets) != pkt:\n",
    "    time.sleep(1)\n",
    "    print(ol_w0_0_tg.register_map)\n",
    "    print(ol_w0_1_tg.register_map)"
   ]
  },
  {
   "cell_type": "code",
   "execution_count": 19,
   "metadata": {},
   "outputs": [
    {
     "name": "stdout",
     "output_type": "stream",
     "text": [
      "Sent         10,000 size:  128-Byte done!\tGot         10,000 took   0.0002 sec, thr: 60.205 Gbps, theoretical: 73.563 Gbps, difference: 13.358 Gbps\n",
      "Frame level throughput: 81.84141585841417\n"
     ]
    }
   ],
   "source": [
    "# Get results from local and remote worker\n",
    "tx_tot_pkt, tx_thr, tx_time = ol_w0_0_tg.computeThroughputApp('tx')\n",
    "rx_tot_pkt, rx_thr, rx_time = ol_w0_1_tg.computeThroughputApp('rx')\n",
    "#Create dict entry for this particular experiment\n",
    "entry_dict = {'size': (beats * payload), 'rx_pkts' : rx_tot_pkt, 'tx_thr': tx_thr, 'rx_thr': rx_thr}\n",
    "local_dict[beats] = entry_dict\n",
    "# Reset probes to prepare for next computation\n",
    "ol_w0_0_tg.resetProbes()\n",
    "ol_w0_1_tg.resetProbes()\n",
    "#Compute theoretical maximum at application level, overhead is UDP (8), IP (20), Ethernet(14) and FCS (4)\n",
    "theoretical = (beats * 64 * 100)/((beats * 64)+8+20+14+4) \n",
    "print(\"Sent {:14,} size: {:4}-Byte done!\tGot {:14,} took {:8.4f} sec, thr: {:.3f} Gbps, theoretical: {:.3f} Gbps, difference: {:6.3f} Gbps\"\\\n",
    "      .format(pkt,beats*64, rx_tot_pkt, rx_time, rx_thr, theoretical, theoretical-rx_thr))\n",
    "time.sleep(0.5)\n",
    "experiment_dict[pkt] = local_dict\n",
    "print(\"Frame level throughput: {}\".format(rx_thr / ((beats * 64)/((beats * 64)+8+20+14+4))))"
   ]
  },
  {
   "cell_type": "code",
   "execution_count": 20,
   "metadata": {},
   "outputs": [
    {
     "data": {
      "text/plain": [
       "(10000, 60.98942506381426, 0.00016789795918367348)"
      ]
     },
     "execution_count": 20,
     "metadata": {},
     "output_type": "execute_result"
    }
   ],
   "source": [
    "tx_tot_pkt, tx_thr, tx_time"
   ]
  },
  {
   "cell_type": "code",
   "execution_count": 21,
   "metadata": {},
   "outputs": [
    {
     "name": "stdout",
     "output_type": "stream",
     "text": [
      "Sent      1,000,000 size:   64-Byte done!\tGot      1,000,000 took   0.0103 sec, thr: 49.908 Gbps, theoretical: 58.182 Gbps, difference:  8.274 Gbps\n",
      "Sent      1,000,000 size:  128-Byte done!\tGot      1,000,000 took   0.0170 sec, thr: 60.211 Gbps, theoretical: 73.563 Gbps, difference: 13.352 Gbps\n",
      "Sent      1,000,000 size:  192-Byte done!\tGot      1,000,000 took   0.0204 sec, thr: 75.264 Gbps, theoretical: 80.672 Gbps, difference:  5.408 Gbps\n",
      "Sent      1,000,000 size:  256-Byte done!\tGot      1,000,000 took   0.0254 sec, thr: 80.596 Gbps, theoretical: 84.768 Gbps, difference:  4.172 Gbps\n",
      "Sent      1,000,000 size:  320-Byte done!\tGot      1,000,000 took   0.0305 sec, thr: 84.042 Gbps, theoretical: 87.432 Gbps, difference:  3.390 Gbps\n",
      "Sent      1,000,000 size:  384-Byte done!\tGot      1,000,000 took   0.0355 sec, thr: 86.507 Gbps, theoretical: 89.302 Gbps, difference:  2.795 Gbps\n",
      "Sent      1,000,000 size:  448-Byte done!\tGot      1,000,000 took   0.0406 sec, thr: 88.358 Gbps, theoretical: 90.688 Gbps, difference:  2.330 Gbps\n",
      "Sent      1,000,000 size:  512-Byte done!\tGot      1,000,000 took   0.0456 sec, thr: 89.800 Gbps, theoretical: 91.756 Gbps, difference:  1.957 Gbps\n",
      "Sent      1,000,000 size:  576-Byte done!\tGot      1,000,000 took   0.0507 sec, thr: 90.954 Gbps, theoretical: 92.605 Gbps, difference:  1.651 Gbps\n",
      "Sent      1,000,000 size:  640-Byte done!\tGot      1,000,000 took   0.0557 sec, thr: 91.898 Gbps, theoretical: 93.294 Gbps, difference:  1.396 Gbps\n",
      "Sent      1,000,000 size:  704-Byte done!\tGot      1,000,000 took   0.0608 sec, thr: 92.686 Gbps, theoretical: 93.867 Gbps, difference:  1.181 Gbps\n",
      "Sent      1,000,000 size:  768-Byte done!\tGot      1,000,000 took   0.0658 sec, thr: 93.353 Gbps, theoretical: 94.349 Gbps, difference:  0.996 Gbps\n",
      "Sent      1,000,000 size:  832-Byte done!\tGot      1,000,000 took   0.0709 sec, thr: 93.925 Gbps, theoretical: 94.761 Gbps, difference:  0.836 Gbps\n",
      "Sent      1,000,000 size:  896-Byte done!\tGot      1,000,000 took   0.0759 sec, thr: 94.420 Gbps, theoretical: 95.117 Gbps, difference:  0.696 Gbps\n",
      "Sent      1,000,000 size:  960-Byte done!\tGot      1,000,000 took   0.0810 sec, thr: 94.854 Gbps, theoretical: 95.427 Gbps, difference:  0.573 Gbps\n",
      "Sent      1,000,000 size: 1024-Byte done!\tGot      1,000,000 took   0.0860 sec, thr: 95.237 Gbps, theoretical: 95.701 Gbps, difference:  0.464 Gbps\n",
      "Sent      1,000,000 size: 1088-Byte done!\tGot      1,000,000 took   0.0911 sec, thr: 95.577 Gbps, theoretical: 95.944 Gbps, difference:  0.366 Gbps\n",
      "Sent      1,000,000 size: 1152-Byte done!\tGot      1,000,000 took   0.0961 sec, thr: 95.882 Gbps, theoretical: 96.160 Gbps, difference:  0.278 Gbps\n",
      "Sent      1,000,000 size: 1216-Byte done!\tGot      1,000,000 took   0.1012 sec, thr: 96.156 Gbps, theoretical: 96.355 Gbps, difference:  0.199 Gbps\n",
      "Sent      1,000,000 size: 1280-Byte done!\tGot      1,000,000 took   0.1062 sec, thr: 96.405 Gbps, theoretical: 96.531 Gbps, difference:  0.126 Gbps\n",
      "Sent      1,000,000 size: 1344-Byte done!\tGot      1,000,000 took   0.1113 sec, thr: 96.630 Gbps, theoretical: 96.691 Gbps, difference:  0.061 Gbps\n",
      "Sent      1,000,000 size: 1408-Byte done!\tGot      1,000,000 took   0.1163 sec, thr: 96.836 Gbps, theoretical: 96.836 Gbps, difference:  0.000 Gbps\n",
      "Sent      1,000,000 size: 1472-Byte done!\tGot      1,000,000 took   0.1214 sec, thr: 97.025 Gbps, theoretical: 96.970 Gbps, difference: -0.055 Gbps\n",
      "Sent  1,000,000,000 size:   64-Byte done!\tGot  1,000,000,000 took  10.2589 sec, thr: 49.908 Gbps, theoretical: 58.182 Gbps, difference:  8.274 Gbps\n",
      "Sent  1,000,000,000 size:  128-Byte done!\tGot  1,000,000,000 took  17.0068 sec, thr: 60.211 Gbps, theoretical: 73.563 Gbps, difference: 13.352 Gbps\n",
      "Sent  1,000,000,000 size:  192-Byte done!\tGot  1,000,000,000 took  20.4082 sec, thr: 75.264 Gbps, theoretical: 80.672 Gbps, difference:  5.408 Gbps\n",
      "Sent  1,000,000,000 size:  256-Byte done!\tGot  1,000,000,000 took  25.4105 sec, thr: 80.597 Gbps, theoretical: 84.768 Gbps, difference:  4.172 Gbps\n",
      "Sent  1,000,000,000 size:  320-Byte done!\tGot  1,000,000,000 took  30.4610 sec, thr: 84.042 Gbps, theoretical: 87.432 Gbps, difference:  3.390 Gbps\n",
      "Sent  1,000,000,000 size:  384-Byte done!\tGot  1,000,000,000 took  35.5116 sec, thr: 86.507 Gbps, theoretical: 89.302 Gbps, difference:  2.795 Gbps\n",
      "Sent  1,000,000,000 size:  448-Byte done!\tGot  1,000,000,000 took  40.5621 sec, thr: 88.358 Gbps, theoretical: 90.688 Gbps, difference:  2.330 Gbps\n",
      "Sent  1,000,000,000 size:  512-Byte done!\tGot  1,000,000,000 took  45.6126 sec, thr: 89.800 Gbps, theoretical: 91.756 Gbps, difference:  1.957 Gbps\n",
      "Sent  1,000,000,000 size:  576-Byte done!\tGot  1,000,000,000 took  50.6632 sec, thr: 90.954 Gbps, theoretical: 92.605 Gbps, difference:  1.651 Gbps\n",
      "Sent  1,000,000,000 size:  640-Byte done!\tGot  1,000,000,000 took  55.7137 sec, thr: 91.898 Gbps, theoretical: 93.294 Gbps, difference:  1.396 Gbps\n",
      "Sent  1,000,000,000 size:  704-Byte done!\tGot  1,000,000,000 took  60.7643 sec, thr: 92.686 Gbps, theoretical: 93.867 Gbps, difference:  1.181 Gbps\n",
      "Sent  1,000,000,000 size:  768-Byte done!\tGot  1,000,000,000 took  65.8148 sec, thr: 93.353 Gbps, theoretical: 94.349 Gbps, difference:  0.996 Gbps\n",
      "Sent  1,000,000,000 size:  832-Byte done!\tGot  1,000,000,000 took  70.8653 sec, thr: 93.925 Gbps, theoretical: 94.761 Gbps, difference:  0.836 Gbps\n",
      "Sent  1,000,000,000 size:  896-Byte done!\tGot  1,000,000,000 took  75.9159 sec, thr: 94.420 Gbps, theoretical: 95.117 Gbps, difference:  0.696 Gbps\n",
      "Sent  1,000,000,000 size:  960-Byte done!\tGot  1,000,000,000 took  80.9664 sec, thr: 94.854 Gbps, theoretical: 95.427 Gbps, difference:  0.573 Gbps\n",
      "Sent  1,000,000,000 size: 1024-Byte done!\tGot  1,000,000,000 took  86.0170 sec, thr: 95.237 Gbps, theoretical: 95.701 Gbps, difference:  0.464 Gbps\n",
      "Sent  1,000,000,000 size: 1088-Byte done!\tGot  1,000,000,000 took  91.0675 sec, thr: 95.577 Gbps, theoretical: 95.944 Gbps, difference:  0.366 Gbps\n",
      "Sent  1,000,000,000 size: 1152-Byte done!\tGot  1,000,000,000 took  96.1180 sec, thr: 95.882 Gbps, theoretical: 96.160 Gbps, difference:  0.278 Gbps\n",
      "Sent  1,000,000,000 size: 1216-Byte done!\tGot  1,000,000,000 took 101.1686 sec, thr: 96.156 Gbps, theoretical: 96.355 Gbps, difference:  0.199 Gbps\n",
      "Sent  1,000,000,000 size: 1280-Byte done!\tGot  1,000,000,000 took 106.2191 sec, thr: 96.405 Gbps, theoretical: 96.531 Gbps, difference:  0.126 Gbps\n",
      "Sent  1,000,000,000 size: 1344-Byte done!\tGot  1,000,000,000 took 111.2696 sec, thr: 96.630 Gbps, theoretical: 96.691 Gbps, difference:  0.061 Gbps\n",
      "Sent  1,000,000,000 size: 1408-Byte done!\tGot  1,000,000,000 took 116.3202 sec, thr: 96.836 Gbps, theoretical: 96.836 Gbps, difference:  0.000 Gbps\n",
      "Sent  1,000,000,000 size: 1472-Byte done!\tGot  1,000,000,000 took 121.3707 sec, thr: 97.025 Gbps, theoretical: 96.970 Gbps, difference: -0.055 Gbps\n"
     ]
    }
   ],
   "source": [
    "# for pkt in [1_000_000, 1_000_000_000]:\n",
    "for pkt in [1_000_000, 1_000_000_000]:\n",
    "    ol_w0_0_tg.register_map.debug_reset = 1\n",
    "    ol_w0_1_tg.register_map.debug_reset = 1\n",
    "    ol_w0_0_tg.register_map.time_between_packets = 0\n",
    "    ol_w0_0_tg.register_map.number_packets = pkt\n",
    "    local_dict = {}\n",
    "    for i in range(23):\n",
    "        beats = i + 1\n",
    "        ol_w0_0_tg.register_map.number_beats = beats\n",
    "        ol_w0_0_tg.register_map.CTRL.AP_START = 1\n",
    "        while int(ol_w0_0_tg.register_map.out_traffic_packets) != pkt:\n",
    "            time.sleep(0.8)\n",
    "        # Get results from local and remote worker\n",
    "        rx_tot_pkt, rx_thr, rx_time = ol_w0_1_tg.computeThroughputApp('rx')\n",
    "        tx_tot_pkt, tx_thr, tx_time = ol_w0_0_tg.computeThroughputApp('tx')\n",
    "        #Create dict entry for this particular experiment\n",
    "        entry_dict = {'size': (beats * 64), 'rx_pkts' : rx_tot_pkt, 'tx_thr': tx_thr, 'rx_thr': rx_thr}\n",
    "        local_dict[beats] = entry_dict\n",
    "        # Reset probes to prepare for next computation\n",
    "        ol_w0_0_tg.resetProbes()\n",
    "        ol_w0_1_tg.resetProbes()\n",
    "        #Compute theoretical maximum at application level, overhead is UDP (8), IP (20), Ethernet(14) and FCS (4)\n",
    "        theoretical = (beats * 64 * 100)/((beats*64)+8+20+14+4) \n",
    "        print(\"Sent {:14,} size: {:4}-Byte done!\tGot {:14,} took {:8.4f} sec, thr: {:.3f} Gbps, theoretical: {:.3f} Gbps, difference: {:6.3f} Gbps\"\\\n",
    "              .format(pkt,beats*64, rx_tot_pkt, rx_time, rx_thr, theoretical, theoretical-rx_thr))\n",
    "        time.sleep(0.5)\n",
    "    experiment_dict[pkt] = local_dict"
   ]
  },
  {
   "cell_type": "markdown",
   "metadata": {},
   "source": [
    "## Plot the results\n",
    "Finally we can plot the results using matplotlib"
   ]
  },
  {
   "cell_type": "code",
   "execution_count": 24,
   "metadata": {},
   "outputs": [
    {
     "data": {
      "image/png": "[encoded data removed]",
      "text/plain": [
       "<Figure size 1332x504 with 1 Axes>"
      ]
     },
     "metadata": {
      "needs_background": "light"
     },
     "output_type": "display_data"
    }
   ],
   "source": [
    "%matplotlib inline\n",
    "import matplotlib.pyplot as plt\n",
    "\n",
    "dict_oneM = experiment_dict[1_000_000]\n",
    "dict_oneB = experiment_dict[1_000_000_000]\n",
    "labels = []\n",
    "oneM_thr = []\n",
    "oneB_thr = []\n",
    "\n",
    "for b in dict_oneM:\n",
    "    labels.append(dict_oneM[b]['size'])\n",
    "    # oneM_thr.append(dict_oneM[b]['rx_thr']\n",
    "    dict_oneM[b]['pkt_thr'] = dict_oneM[b]['rx_thr'] * ((dict_oneM[b]['size'] + 46) / (dict_oneM[b]['size']))\n",
    "    oneM_thr.append(dict_oneM[b]['pkt_thr'])\n",
    "\n",
    "for b in dict_oneB:\n",
    "    # oneB_thr.append(dict_oneB[b]['rx_thr'])\n",
    "    dict_oneB[b]['pkt_thr'] = dict_oneB[b]['rx_thr'] * ((dict_oneB[b]['size'] + 46) / (dict_oneB[b]['size']))\n",
    "    oneB_thr.append(dict_oneB[b]['pkt_thr'])\n",
    "\n",
    "x = np.arange(len(labels))  # the label locations\n",
    "width = 0.35  # the width of the bars\n",
    "\n",
    "fig, ax = plt.subplots()\n",
    "rects1 = ax.bar(x - width/2, oneM_thr, width, label='A Million Packets')\n",
    "if(len(oneB_thr) > 0):\n",
    "    rects2 = ax.bar(x + width/2, oneB_thr, width, label='A Billion Packets')\n",
    "\n",
    "# Add some text for labels, title and custom x-axis tick labels, etc.\n",
    "ax.set_ylabel('Throughput (Gbit/s)')\n",
    "ax.set_xlabel('Payload Size (Byte)')\n",
    "ax.set_title('Throughput for different packet size at application level')\n",
    "ax.set_xticks(x)\n",
    "ax.set_xticklabels(labels)\n",
    "ax.legend()\n",
    "ax.set_ylim(40,100)\n",
    "fig.set_size_inches(18.5, 7)\n",
    "plt.show()"
   ]
  },
  {
   "cell_type": "code",
   "execution_count": 25,
   "metadata": {
    "scrolled": false
   },
   "outputs": [
    {
     "name": "stdout",
     "output_type": "stream",
     "text": [
      "64 85.77862536702588\n",
      "128 81.84955089026946\n",
      "192 93.29587560549919\n",
      "256 95.07862782890119\n",
      "320 96.12266439708887\n",
      "384 96.86969399785471\n",
      "448 97.43074182548976\n",
      "512 97.8675222190273\n",
      "576 98.21722534243744\n",
      "640 98.50351425856245\n",
      "704 98.74221229575645\n",
      "768 98.94428585338083\n",
      "832 99.1175608468125\n",
      "896 99.26778058023952\n",
      "960 99.39923442687059\n",
      "1024 99.51526326580525\n",
      "1088 99.61842979496294\n",
      "1152 99.71074041938446\n",
      "1216 99.7938578557223\n",
      "1280 99.86904554714032\n",
      "1344 99.93741989489772\n",
      "1408 99.99985964144003\n",
      "1472 100.05709163145194\n"
     ]
    }
   ],
   "source": [
    "for b in dict_oneM:\n",
    "    print(dict_oneM[b][\"size\"], dict_oneM[b][\"pkt_thr\"])"
   ]
  },
  {
   "cell_type": "markdown",
   "metadata": {},
   "source": [
    "## Release Alveo cards\n",
    "To release the alveo cards the pynq overlay is freed"
   ]
  },
  {
   "cell_type": "code",
   "execution_count": null,
   "metadata": {},
   "outputs": [],
   "source": [
    "payloads = []\n",
    "multiplier = []\n",
    "for b in dict_oneM:\n",
    "    payloads.append(b)\n",
    "    multiplier.append((dict_oneM[b]['size'] + 46) / (dict_oneM[b]['size']))\n",
    "    \n",
    "fig, ax = plt.subplots()\n",
    "ax.plot(payloads, multiplier)\n",
    "ax.set_xlabel('Payload size (bytes)')\n",
    "ax.set_ylabel('Multiplier for app to frame level thr')\n",
    "plt.show()"
   ]
  },
  {
   "cell_type": "code",
   "execution_count": null,
   "metadata": {},
   "outputs": [],
   "source": [
    "pynq.Overlay.free(ol_w0)"
   ]
  },
  {
   "cell_type": "code",
   "execution_count": null,
   "metadata": {},
   "outputs": [],
   "source": [
    "time_sec = 121.3707\n",
    "frame_size = (23 * 64) + 46\n",
    "pkts = 1e9\n",
    "\n",
    "gbps = frame_size * pkts * 8 / time_sec / 1e9\n",
    "gbps"
   ]
  },
  {
   "cell_type": "markdown",
   "metadata": {},
   "source": [
    "------------------------------------------\n",
    "Copyright (c) 2020-2021, Xilinx, Inc."
   ]
  }
 ],
 "metadata": {
  "kernelspec": {
   "display_name": "Python 3 (ipykernel)",
   "language": "python",
   "name": "python3"
  },
  "language_info": {
   "codemirror_mode": {
    "name": "ipython",
    "version": 3
   },
   "file_extension": ".py",
   "mimetype": "text/x-python",
   "name": "python",
   "nbconvert_exporter": "python",
   "pygments_lexer": "ipython3",
   "version": "3.9.12"
  }
 },
 "nbformat": 4,
 "nbformat_minor": 4
}
