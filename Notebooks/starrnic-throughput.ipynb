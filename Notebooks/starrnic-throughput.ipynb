{
 "cells": [
  {
   "cell_type": "markdown",
   "metadata": {},
   "source": [
    "# Benchmark Throughput experiment (Switch)\n",
    "This notebook will show you how to measure the throughput between two Alveo nodes using the benchmark application with UDP as a transport protocol.\n",
    "We are going to rely on a Dask cluster to configure the local and remote Alveo cards.\n",
    "\n",
    "This notebook assumes:\n",
    "* The Alveo cards are connected to a switch\n",
    "* Dask cluster is already created and running. For more information about setting up a Dask cluster visit the [Dask documentation](https://docs.dask.org/en/latest/setup.html)"
   ]
  },
  {
   "cell_type": "code",
   "execution_count": 192,
   "metadata": {},
   "outputs": [],
   "source": [
    "from vnx_utils import *\n",
    "import pynq"
   ]
  },
  {
   "cell_type": "code",
   "execution_count": 193,
   "metadata": {},
   "outputs": [],
   "source": [
    "import sys\n",
    "import os"
   ]
  },
  {
   "cell_type": "code",
   "execution_count": 194,
   "metadata": {},
   "outputs": [],
   "source": [
    "workers = pynq.Device.devices"
   ]
  },
  {
   "cell_type": "markdown",
   "metadata": {},
   "source": [
    "## Download xclbin to Alveo cards\n",
    "1. Create Dask device for each worker\n",
    "2. Create an overlay object for each worker, this step will download the `xclbin` file to the Alveo card"
   ]
  },
  {
   "cell_type": "code",
   "execution_count": 195,
   "metadata": {},
   "outputs": [],
   "source": [
    "xclbin = '/home/ubuntu/Projects/StaRR-NIC/xup_vitis_network_example/benchmark.intf3.xilinx_u280_xdma_201920_3/vnx_benchmark_if3.xclbin'\n",
    "ol_w0 = pynq.Overlay(xclbin, device=workers[0])"
   ]
  },
  {
   "cell_type": "markdown",
   "metadata": {},
   "source": [
    "## Check Link \n",
    "\n",
    "We are going to use the function `linkStatus` that reports if the CMAC is detecting link, which means that the physical connection\n",
    "between each Alveo card and the switch is established."
   ]
  },
  {
   "cell_type": "code",
   "execution_count": 196,
   "metadata": {},
   "outputs": [
    {
     "name": "stdout",
     "output_type": "stream",
     "text": [
      "Link worker 0_0 {'cmac_link': True}, worker 0_1 {'cmac_link': True}\n"
     ]
    }
   ],
   "source": [
    "print(\"Link worker 0_0 {}, worker 0_1 {}\".format(ol_w0.cmac_0.linkStatus(), ol_w0.cmac_1.linkStatus()))"
   ]
  },
  {
   "cell_type": "markdown",
   "metadata": {},
   "source": [
    "## Configure IP address of the Alveo cards\n",
    "In the next cell we are going to configure the IP address of the two Alveo cards"
   ]
  },
  {
   "cell_type": "code",
   "execution_count": 198,
   "metadata": {},
   "outputs": [
    {
     "name": "stdout",
     "output_type": "stream",
     "text": [
      "Worker 0_0: {'HWaddr': '00:0a:35:02:9d:2f', 'inet addr': '10.0.0.47', 'gateway addr': '10.0.0.1', 'Mask': '255.255.255.0'}\n",
      "Worker 0_1: {'HWaddr': '00:0a:35:02:9d:2d', 'inet addr': '10.0.0.45', 'gateway addr': '10.0.0.1', 'Mask': '255.255.255.0'}\n"
     ]
    }
   ],
   "source": [
    "ip_w0_0, ip_w0_1 = '10.0.0.47', '10.0.0.45'\n",
    "if_status_w0_0 = ol_w0.networklayer_0.updateIPAddress(ip_w0_0, debug=True)\n",
    "if_status_w0_1 = ol_w0.networklayer_1.updateIPAddress(ip_w0_1, debug=True)\n",
    "print(\"Worker 0_0: {}\\nWorker 0_1: {}\".format(if_status_w0_0, if_status_w0_1))"
   ]
  },
  {
   "cell_type": "markdown",
   "metadata": {},
   "source": [
    "## One way experiment with XL710"
   ]
  },
  {
   "cell_type": "code",
   "execution_count": 335,
   "metadata": {},
   "outputs": [],
   "source": [
    "n3_data = {\n",
    "    'ip_tx_0': '10.0.0.55',\n",
    "    'ip_rx_1': '10.0.0.57',\n",
    "    'mac_rx_1': '00:0a:35:bd:11:be',\n",
    "    'mac_tx_0': '00:0a:35:dd:4b:c4',\n",
    "    'sport': 64000,\n",
    "    'dport': 64001,\n",
    "}\n",
    "\n",
    "tx_src_port, tx_dst_port = 60512, 62177\n",
    "tx_dst_ip = n3_data['ip_rx_1']\n",
    "tx_dst_mac = n3_data['mac_rx_1']\n",
    "\n",
    "# The ports are from the reference of n5 (not in the packet)\n",
    "rx_src_port, rx_dst_port = n3_data['dport'], n3_data['sport']\n",
    "rx_src_ip = n3_data['ip_tx_0']\n",
    "rx_src_mac = n3_data['mac_tx_0']"
   ]
  },
  {
   "cell_type": "markdown",
   "metadata": {},
   "source": [
    "### Configure port 0\n",
    "\n",
    "1. Set up connection table\n",
    "2. Launch ARP discovery\n",
    "3. Print out ARP Table "
   ]
  },
  {
   "cell_type": "code",
   "execution_count": 349,
   "metadata": {},
   "outputs": [
    {
     "data": {
      "text/plain": [
       "{45: {'MAC address': '00:0a:35:02:9d:2d', 'IP address': '10.0.0.45'},\n",
       " 53: {'MAC address': '00:0a:35:a8:d6:ac', 'IP address': '10.0.0.53'},\n",
       " 55: {'MAC address': '00:0a:35:dd:4b:c4', 'IP address': '10.0.0.55'},\n",
       " 57: {'MAC address': '00:0a:35:bd:11:be', 'IP address': '10.0.0.57'},\n",
       " 61: {'MAC address': '40:a6:b7:22:ab:89', 'IP address': '10.0.0.61'},\n",
       " 63: {'MAC address': '40:a6:b7:22:ab:89', 'IP address': '10.0.0.63'}}"
      ]
     },
     "execution_count": 349,
     "metadata": {},
     "output_type": "execute_result"
    }
   ],
   "source": [
    "ol_w0.networklayer_0.resetDebugProbes()\n",
    "ol_w0.networklayer_0.sockets[12] = (tx_dst_ip, tx_dst_port, tx_src_port, True)\n",
    "ol_w0.networklayer_0.sockets[1] = (rx_src_ip, rx_dst_port, rx_src_port, True)\n",
    "ol_w0.networklayer_0.populateSocketTable()\n",
    "\n",
    "ol_w0.networklayer_0.arpDiscovery()\n",
    "ol_w0.networklayer_0.write_arp_entry(tx_dst_mac, tx_dst_ip)\n",
    "ol_w0.networklayer_0.write_arp_entry(rx_src_mac, rx_src_ip)\n",
    "ol_w0.networklayer_0.readARPTable()"
   ]
  },
  {
   "cell_type": "code",
   "execution_count": 361,
   "metadata": {},
   "outputs": [
    {
     "data": {
      "application/json": {
       "rx_path": {
        "app": {
         "bytes": 0,
         "cycles": 0,
         "packets": 0
        },
        "arp": {
         "bytes": 15000,
         "cycles": 2041,
         "packets": 250
        },
        "ethernet": {
         "bytes": 15282,
         "cycles": 3616264195,
         "packets": 251
        },
        "icmp": {
         "bytes": 0,
         "cycles": 0,
         "packets": 0
        },
        "packet_handler": {
         "bytes": 15000,
         "cycles": 2041,
         "packets": 250
        },
        "udp": {
         "bytes": 0,
         "cycles": 0,
         "packets": 0
        }
       },
       "tx_path": {
        "app": {
         "bytes": 64000000000,
         "cycles": 3016114490,
         "packets": 1000000000
        },
        "arp": {
         "bytes": 15000,
         "cycles": 2041,
         "packets": 250
        },
        "ethernet": {
         "bytes": 106000015000,
         "cycles": 5996720783,
         "packets": 1000000250
        },
        "ethernet_header_inserter": {
         "bytes": 106000000000,
         "cycles": 3016115277,
         "packets": 1000000000
        },
        "icmp": {
         "bytes": 0,
         "cycles": 0,
         "packets": 0
        },
        "udp": {
         "bytes": 92000000000,
         "cycles": 3016115260,
         "packets": 1000000000
        }
       }
      },
      "text/plain": [
       "{'tx_path': {'arp': {'packets': 250, 'bytes': 15000, 'cycles': 2041},\n",
       "  'icmp': {'packets': 0, 'bytes': 0, 'cycles': 0},\n",
       "  'ethernet_header_inserter': {'packets': 1000000000,\n",
       "   'bytes': 106000000000,\n",
       "   'cycles': 3016115277},\n",
       "  'ethernet': {'packets': 1000000250,\n",
       "   'bytes': 106000015000,\n",
       "   'cycles': 5996720783},\n",
       "  'app': {'packets': 1000000000, 'bytes': 64000000000, 'cycles': 3016114490},\n",
       "  'udp': {'packets': 1000000000, 'bytes': 92000000000, 'cycles': 3016115260}},\n",
       " 'rx_path': {'ethernet': {'packets': 251,\n",
       "   'bytes': 15282,\n",
       "   'cycles': 3616264195},\n",
       "  'packet_handler': {'packets': 250, 'bytes': 15000, 'cycles': 2041},\n",
       "  'arp': {'packets': 250, 'bytes': 15000, 'cycles': 2041},\n",
       "  'icmp': {'packets': 0, 'bytes': 0, 'cycles': 0},\n",
       "  'udp': {'packets': 0, 'bytes': 0, 'cycles': 0},\n",
       "  'app': {'packets': 0, 'bytes': 0, 'cycles': 0}}}"
      ]
     },
     "execution_count": 361,
     "metadata": {
      "application/json": {
       "expanded": false,
       "root": "debug_probes"
      }
     },
     "output_type": "execute_result"
    }
   ],
   "source": [
    "ol_w0.networklayer_0.getDebugProbes"
   ]
  },
  {
   "cell_type": "markdown",
   "metadata": {},
   "source": [
    "### Configure port 1\n",
    "\n",
    "1. Set up connection table\n",
    "2. Launch ARP discovery\n",
    "3. Print out ARP Table "
   ]
  },
  {
   "cell_type": "code",
   "execution_count": 351,
   "metadata": {},
   "outputs": [
    {
     "data": {
      "text/plain": [
       "{47: {'MAC address': '00:0a:35:02:9d:2f', 'IP address': '10.0.0.47'},\n",
       " 53: {'MAC address': '00:0a:35:a8:d6:ac', 'IP address': '10.0.0.53'},\n",
       " 55: {'MAC address': '00:0a:35:dd:4b:c4', 'IP address': '10.0.0.55'},\n",
       " 57: {'MAC address': '00:0a:35:bd:11:be', 'IP address': '10.0.0.57'},\n",
       " 61: {'MAC address': '40:a6:b7:22:ab:89', 'IP address': '10.0.0.61'},\n",
       " 63: {'MAC address': '40:a6:b7:22:ab:89', 'IP address': '10.0.0.63'}}"
      ]
     },
     "execution_count": 351,
     "metadata": {},
     "output_type": "execute_result"
    }
   ],
   "source": [
    "ol_w0.networklayer_1.resetDebugProbes()\n",
    "ol_w0.networklayer_1.sockets[1] = (rx_src_ip, rx_dst_port, rx_src_port, True)\n",
    "ol_w0.networklayer_1.populateSocketTable()\n",
    "\n",
    "ol_w0.networklayer_1.arpDiscovery()\n",
    "ol_w0.networklayer_1.write_arp_entry(tx_dst_mac, tx_dst_ip)\n",
    "ol_w0.networklayer_1.write_arp_entry(rx_src_mac, rx_src_ip)\n",
    "ol_w0.networklayer_1.readARPTable()"
   ]
  },
  {
   "cell_type": "code",
   "execution_count": 365,
   "metadata": {},
   "outputs": [
    {
     "data": {
      "application/json": {
       "rx_path": {
        "app": {
         "bytes": 83202546688,
         "cycles": 12651187539,
         "packets": 1300039792
        },
        "arp": {
         "bytes": 0,
         "cycles": 0,
         "packets": 0
        },
        "ethernet": {
         "bytes": 137804218516,
         "cycles": 12651187540,
         "packets": 1300039794
        },
        "icmp": {
         "bytes": 0,
         "cycles": 0,
         "packets": 0
        },
        "packet_handler": {
         "bytes": 119603660864,
         "cycles": 12651187540,
         "packets": 1300039792
        },
        "udp": {
         "bytes": 119603660864,
         "cycles": 12651187540,
         "packets": 1300039792
        }
       },
       "tx_path": {
        "app": {
         "bytes": 0,
         "cycles": 0,
         "packets": 0
        },
        "arp": {
         "bytes": 15000,
         "cycles": 2041,
         "packets": 250
        },
        "ethernet": {
         "bytes": 15000,
         "cycles": 2041,
         "packets": 250
        },
        "ethernet_header_inserter": {
         "bytes": 0,
         "cycles": 0,
         "packets": 0
        },
        "icmp": {
         "bytes": 0,
         "cycles": 0,
         "packets": 0
        },
        "udp": {
         "bytes": 0,
         "cycles": 0,
         "packets": 0
        }
       }
      },
      "text/plain": [
       "{'tx_path': {'arp': {'packets': 250, 'bytes': 15000, 'cycles': 2041},\n",
       "  'icmp': {'packets': 0, 'bytes': 0, 'cycles': 0},\n",
       "  'ethernet_header_inserter': {'packets': 0, 'bytes': 0, 'cycles': 0},\n",
       "  'ethernet': {'packets': 250, 'bytes': 15000, 'cycles': 2041},\n",
       "  'app': {'packets': 0, 'bytes': 0, 'cycles': 0},\n",
       "  'udp': {'packets': 0, 'bytes': 0, 'cycles': 0}},\n",
       " 'rx_path': {'ethernet': {'packets': 1300039794,\n",
       "   'bytes': 137804218516,\n",
       "   'cycles': 12651187540},\n",
       "  'packet_handler': {'packets': 1300039792,\n",
       "   'bytes': 119603660864,\n",
       "   'cycles': 12651187540},\n",
       "  'arp': {'packets': 0, 'bytes': 0, 'cycles': 0},\n",
       "  'icmp': {'packets': 0, 'bytes': 0, 'cycles': 0},\n",
       "  'udp': {'packets': 1300039792, 'bytes': 119603660864, 'cycles': 12651187540},\n",
       "  'app': {'packets': 1300039792, 'bytes': 83202546688, 'cycles': 12651187539}}}"
      ]
     },
     "execution_count": 365,
     "metadata": {
      "application/json": {
       "expanded": false,
       "root": "debug_probes"
      }
     },
     "output_type": "execute_result"
    }
   ],
   "source": [
    "ol_w0.networklayer_1.getDebugProbes"
   ]
  },
  {
   "cell_type": "markdown",
   "metadata": {},
   "source": [
    "## Configure application\n",
    "* Configure port 1 traffic generator 1 in `CONSUMER` mode"
   ]
  },
  {
   "cell_type": "code",
   "execution_count": 353,
   "metadata": {},
   "outputs": [],
   "source": [
    "ol_w0_1_tg = ol_w0.traffic_generator_1_1\n",
    "ol_w0_1_tg.register_map.debug_reset = 1\n",
    "ol_w0_1_tg.register_map.mode = benchmark_mode.index('CONSUMER')\n",
    "ol_w0_1_tg.register_map.CTRL.AP_START = 1\n",
    "ol_w0_1_tg.resetProbes()"
   ]
  },
  {
   "cell_type": "code",
   "execution_count": 366,
   "metadata": {},
   "outputs": [
    {
     "data": {
      "text/plain": [
       "RegisterMap {\n",
       "  CTRL = Register(AP_START=0, AP_DONE=0, AP_IDLE=1, AP_READY=0, AUTO_RESTART=0),\n",
       "  mode = Register(value=3),\n",
       "  dest_id = Register(value=0),\n",
       "  number_packets = Register(value=0),\n",
       "  number_beats = Register(value=0),\n",
       "  time_between_packets = Register(value=0),\n",
       "  reset_fsm = Register(value=0),\n",
       "  debug_fsms = Register(value=0),\n",
       "  out_traffic_cycles = Register(value=0),\n",
       "  out_traffic_bytes = Register(value=0),\n",
       "  out_traffic_packets = Register(value=0),\n",
       "  in_traffic_cycles = Register(value=3016116145),\n",
       "  in_traffic_bytes = Register(value=41601273152),\n",
       "  in_traffic_packets = Register(value=650019893),\n",
       "  summary_cycles = Register(value=0),\n",
       "  summary_bytes = Register(value=0),\n",
       "  summary_packets = Register(value=0),\n",
       "  debug_reset = Register(value=0)\n",
       "}"
      ]
     },
     "execution_count": 366,
     "metadata": {},
     "output_type": "execute_result"
    }
   ],
   "source": [
    "ol_w0_1_tg.register_map"
   ]
  },
  {
   "cell_type": "code",
   "execution_count": 355,
   "metadata": {
    "scrolled": false
   },
   "outputs": [],
   "source": [
    "# for i in range(2):\n",
    "#     for j in range(4):\n",
    "#         ol_tg = getattr(ol_w0, 'traffic_generator_{}_{}'.format(i, j))\n",
    "#         print(ol_tg.register_map)"
   ]
  },
  {
   "cell_type": "markdown",
   "metadata": {},
   "source": [
    "* Configure port 0 traffic generator 0\n",
    "* Run the application for different packet sizes\n",
    "* Compute and store results for both local (Tx) and remote (Rx)"
   ]
  },
  {
   "cell_type": "code",
   "execution_count": 356,
   "metadata": {},
   "outputs": [
    {
     "data": {
      "text/plain": [
       "294"
      ]
     },
     "execution_count": 356,
     "metadata": {},
     "output_type": "execute_result"
    }
   ],
   "source": [
    "import time\n",
    "freq = int(ol_w0.clock_dict['clock0']['frequency'])\n",
    "freq"
   ]
  },
  {
   "cell_type": "code",
   "execution_count": 357,
   "metadata": {},
   "outputs": [],
   "source": [
    "ol_w0_0_tg = ol_w0.traffic_generator_0_3\n",
    "experiment_dict = {}\n",
    "local_dict = {}\n",
    "ol_w0_0_tg.register_map.mode = benchmark_mode.index('PRODUCER')\n",
    "ol_w0_0_tg.register_map.dest_id = 12\n",
    "ol_w0_0_tg.resetProbes()\n",
    "ol_w0_1_tg.freq = freq\n",
    "ol_w0_0_tg.freq = freq"
   ]
  },
  {
   "cell_type": "code",
   "execution_count": 358,
   "metadata": {},
   "outputs": [
    {
     "data": {
      "text/plain": [
       "RegisterMap {\n",
       "  CTRL = Register(AP_START=0, AP_DONE=0, AP_IDLE=1, AP_READY=0, AUTO_RESTART=0),\n",
       "  mode = Register(value=0),\n",
       "  dest_id = Register(value=12),\n",
       "  number_packets = Register(value=1000000000),\n",
       "  number_beats = Register(value=1),\n",
       "  time_between_packets = Register(value=0),\n",
       "  reset_fsm = Register(value=0),\n",
       "  debug_fsms = Register(value=0),\n",
       "  out_traffic_cycles = Register(value=0),\n",
       "  out_traffic_bytes = Register(value=0),\n",
       "  out_traffic_packets = Register(value=0),\n",
       "  in_traffic_cycles = Register(value=0),\n",
       "  in_traffic_bytes = Register(value=0),\n",
       "  in_traffic_packets = Register(value=0),\n",
       "  summary_cycles = Register(value=0),\n",
       "  summary_bytes = Register(value=0),\n",
       "  summary_packets = Register(value=0),\n",
       "  debug_reset = Register(value=0)\n",
       "}"
      ]
     },
     "execution_count": 358,
     "metadata": {},
     "output_type": "execute_result"
    }
   ],
   "source": [
    "ol_w0_0_tg.register_map"
   ]
  },
  {
   "cell_type": "code",
   "execution_count": 364,
   "metadata": {
    "scrolled": true
   },
   "outputs": [
    {
     "name": "stdout",
     "output_type": "stream",
     "text": [
      "RegisterMap {\n",
      "  CTRL = Register(AP_START=1, AP_DONE=0, AP_IDLE=0, AP_READY=0, AUTO_RESTART=0),\n",
      "  mode = Register(value=0),\n",
      "  dest_id = Register(value=12),\n",
      "  number_packets = Register(value=1000000000),\n",
      "  number_beats = Register(value=1),\n",
      "  time_between_packets = Register(value=0),\n",
      "  reset_fsm = Register(value=0),\n",
      "  debug_fsms = Register(value=1),\n",
      "  out_traffic_cycles = Register(value=290550065),\n",
      "  out_traffic_bytes = Register(value=6165523456),\n",
      "  out_traffic_packets = Register(value=96339412),\n",
      "  in_traffic_cycles = Register(value=0),\n",
      "  in_traffic_bytes = Register(value=0),\n",
      "  in_traffic_packets = Register(value=0),\n",
      "  summary_cycles = Register(value=0),\n",
      "  summary_bytes = Register(value=0),\n",
      "  summary_packets = Register(value=0),\n",
      "  debug_reset = Register(value=0)\n",
      "}\n",
      "RegisterMap {\n",
      "  CTRL = Register(AP_START=0, AP_DONE=0, AP_IDLE=1, AP_READY=0, AUTO_RESTART=0),\n",
      "  mode = Register(value=3),\n",
      "  dest_id = Register(value=0),\n",
      "  number_packets = Register(value=0),\n",
      "  number_beats = Register(value=0),\n",
      "  time_between_packets = Register(value=0),\n",
      "  reset_fsm = Register(value=0),\n",
      "  debug_fsms = Register(value=0),\n",
      "  out_traffic_cycles = Register(value=0),\n",
      "  out_traffic_bytes = Register(value=0),\n",
      "  out_traffic_packets = Register(value=0),\n",
      "  in_traffic_cycles = Register(value=290847709),\n",
      "  in_traffic_bytes = Register(value=4011801344),\n",
      "  in_traffic_packets = Register(value=62686524),\n",
      "  summary_cycles = Register(value=0),\n",
      "  summary_bytes = Register(value=0),\n",
      "  summary_packets = Register(value=0),\n",
      "  debug_reset = Register(value=0)\n",
      "}\n",
      "RegisterMap {\n",
      "  CTRL = Register(AP_START=1, AP_DONE=0, AP_IDLE=0, AP_READY=0, AUTO_RESTART=0),\n",
      "  mode = Register(value=0),\n",
      "  dest_id = Register(value=12),\n",
      "  number_packets = Register(value=1000000000),\n",
      "  number_beats = Register(value=1),\n",
      "  time_between_packets = Register(value=0),\n",
      "  reset_fsm = Register(value=0),\n",
      "  debug_fsms = Register(value=1),\n",
      "  out_traffic_cycles = Register(value=581426776),\n",
      "  out_traffic_bytes = Register(value=12337720832),\n",
      "  out_traffic_packets = Register(value=192779713),\n",
      "  in_traffic_cycles = Register(value=0),\n",
      "  in_traffic_bytes = Register(value=0),\n",
      "  in_traffic_packets = Register(value=0),\n",
      "  summary_cycles = Register(value=0),\n",
      "  summary_bytes = Register(value=0),\n",
      "  summary_packets = Register(value=0),\n",
      "  debug_reset = Register(value=0)\n",
      "}\n",
      "RegisterMap {\n",
      "  CTRL = Register(AP_START=0, AP_DONE=0, AP_IDLE=1, AP_READY=0, AUTO_RESTART=0),\n",
      "  mode = Register(value=3),\n",
      "  dest_id = Register(value=0),\n",
      "  number_packets = Register(value=0),\n",
      "  number_beats = Register(value=0),\n",
      "  time_between_packets = Register(value=0),\n",
      "  reset_fsm = Register(value=0),\n",
      "  debug_fsms = Register(value=0),\n",
      "  out_traffic_cycles = Register(value=0),\n",
      "  out_traffic_bytes = Register(value=0),\n",
      "  out_traffic_packets = Register(value=0),\n",
      "  in_traffic_cycles = Register(value=581801403),\n",
      "  in_traffic_bytes = Register(value=8024900928),\n",
      "  in_traffic_packets = Register(value=125390887),\n",
      "  summary_cycles = Register(value=0),\n",
      "  summary_bytes = Register(value=0),\n",
      "  summary_packets = Register(value=0),\n",
      "  debug_reset = Register(value=0)\n",
      "}\n",
      "RegisterMap {\n",
      "  CTRL = Register(AP_START=1, AP_DONE=0, AP_IDLE=0, AP_READY=0, AUTO_RESTART=0),\n",
      "  mode = Register(value=0),\n",
      "  dest_id = Register(value=12),\n",
      "  number_packets = Register(value=1000000000),\n",
      "  number_beats = Register(value=1),\n",
      "  time_between_packets = Register(value=0),\n",
      "  reset_fsm = Register(value=0),\n",
      "  debug_fsms = Register(value=1),\n",
      "  out_traffic_cycles = Register(value=872414724),\n",
      "  out_traffic_bytes = Register(value=18512301248),\n",
      "  out_traffic_packets = Register(value=289257757),\n",
      "  in_traffic_cycles = Register(value=0),\n",
      "  in_traffic_bytes = Register(value=0),\n",
      "  in_traffic_packets = Register(value=0),\n",
      "  summary_cycles = Register(value=0),\n",
      "  summary_bytes = Register(value=0),\n",
      "  summary_packets = Register(value=0),\n",
      "  debug_reset = Register(value=0)\n",
      "}\n",
      "RegisterMap {\n",
      "  CTRL = Register(AP_START=0, AP_DONE=0, AP_IDLE=1, AP_READY=0, AUTO_RESTART=0),\n",
      "  mode = Register(value=3),\n",
      "  dest_id = Register(value=0),\n",
      "  number_packets = Register(value=0),\n",
      "  number_beats = Register(value=0),\n",
      "  time_between_packets = Register(value=0),\n",
      "  reset_fsm = Register(value=0),\n",
      "  debug_fsms = Register(value=0),\n",
      "  out_traffic_cycles = Register(value=0),\n",
      "  out_traffic_bytes = Register(value=0),\n",
      "  out_traffic_packets = Register(value=0),\n",
      "  in_traffic_cycles = Register(value=872692976),\n",
      "  in_traffic_bytes = Register(value=12037183616),\n",
      "  in_traffic_packets = Register(value=188083130),\n",
      "  summary_cycles = Register(value=0),\n",
      "  summary_bytes = Register(value=0),\n",
      "  summary_packets = Register(value=0),\n",
      "  debug_reset = Register(value=0)\n",
      "}\n",
      "RegisterMap {\n",
      "  CTRL = Register(AP_START=1, AP_DONE=0, AP_IDLE=0, AP_READY=0, AUTO_RESTART=0),\n",
      "  mode = Register(value=0),\n",
      "  dest_id = Register(value=12),\n",
      "  number_packets = Register(value=1000000000),\n",
      "  number_beats = Register(value=1),\n",
      "  time_between_packets = Register(value=0),\n",
      "  reset_fsm = Register(value=0),\n",
      "  debug_fsms = Register(value=1),\n",
      "  out_traffic_cycles = Register(value=1163269992),\n",
      "  out_traffic_bytes = Register(value=24684068160),\n",
      "  out_traffic_packets = Register(value=385691741),\n",
      "  in_traffic_cycles = Register(value=0),\n",
      "  in_traffic_bytes = Register(value=0),\n",
      "  in_traffic_packets = Register(value=0),\n",
      "  summary_cycles = Register(value=0),\n",
      "  summary_bytes = Register(value=0),\n",
      "  summary_packets = Register(value=0),\n",
      "  debug_reset = Register(value=0)\n",
      "}\n",
      "RegisterMap {\n",
      "  CTRL = Register(AP_START=0, AP_DONE=0, AP_IDLE=1, AP_READY=0, AUTO_RESTART=0),\n",
      "  mode = Register(value=3),\n",
      "  dest_id = Register(value=0),\n",
      "  number_packets = Register(value=0),\n",
      "  number_beats = Register(value=0),\n",
      "  time_between_packets = Register(value=0),\n",
      "  reset_fsm = Register(value=0),\n",
      "  debug_fsms = Register(value=0),\n",
      "  out_traffic_cycles = Register(value=0),\n",
      "  out_traffic_bytes = Register(value=0),\n",
      "  out_traffic_packets = Register(value=0),\n",
      "  in_traffic_cycles = Register(value=1163655914),\n",
      "  in_traffic_bytes = Register(value=16050424768),\n",
      "  in_traffic_packets = Register(value=250789808),\n",
      "  summary_cycles = Register(value=0),\n",
      "  summary_bytes = Register(value=0),\n",
      "  summary_packets = Register(value=0),\n",
      "  debug_reset = Register(value=0)\n",
      "}\n",
      "RegisterMap {\n",
      "  CTRL = Register(AP_START=1, AP_DONE=0, AP_IDLE=0, AP_READY=0, AUTO_RESTART=0),\n",
      "  mode = Register(value=0),\n",
      "  dest_id = Register(value=12),\n",
      "  number_packets = Register(value=1000000000),\n",
      "  number_beats = Register(value=1),\n",
      "  time_between_packets = Register(value=0),\n",
      "  reset_fsm = Register(value=0),\n",
      "  debug_fsms = Register(value=1),\n",
      "  out_traffic_cycles = Register(value=1454226335),\n",
      "  out_traffic_bytes = Register(value=30857964160),\n",
      "  out_traffic_packets = Register(value=482158639),\n",
      "  in_traffic_cycles = Register(value=0),\n",
      "  in_traffic_bytes = Register(value=0),\n",
      "  in_traffic_packets = Register(value=0),\n",
      "  summary_cycles = Register(value=0),\n",
      "  summary_bytes = Register(value=0),\n",
      "  summary_packets = Register(value=0),\n",
      "  debug_reset = Register(value=0)\n",
      "}\n",
      "RegisterMap {\n",
      "  CTRL = Register(AP_START=0, AP_DONE=0, AP_IDLE=1, AP_READY=0, AUTO_RESTART=0),\n",
      "  mode = Register(value=3),\n",
      "  dest_id = Register(value=0),\n",
      "  number_packets = Register(value=0),\n",
      "  number_beats = Register(value=0),\n",
      "  time_between_packets = Register(value=0),\n",
      "  reset_fsm = Register(value=0),\n",
      "  debug_fsms = Register(value=0),\n",
      "  out_traffic_cycles = Register(value=0),\n",
      "  out_traffic_bytes = Register(value=0),\n",
      "  out_traffic_packets = Register(value=0),\n",
      "  in_traffic_cycles = Register(value=1454507910),\n",
      "  in_traffic_bytes = Register(value=20062160448),\n",
      "  in_traffic_packets = Register(value=313473410),\n",
      "  summary_cycles = Register(value=0),\n",
      "  summary_bytes = Register(value=0),\n",
      "  summary_packets = Register(value=0),\n",
      "  debug_reset = Register(value=0)\n",
      "}\n",
      "RegisterMap {\n",
      "  CTRL = Register(AP_START=1, AP_DONE=0, AP_IDLE=0, AP_READY=0, AUTO_RESTART=0),\n",
      "  mode = Register(value=0),\n",
      "  dest_id = Register(value=12),\n",
      "  number_packets = Register(value=1000000000),\n",
      "  number_beats = Register(value=1),\n",
      "  time_between_packets = Register(value=0),\n",
      "  reset_fsm = Register(value=0),\n",
      "  debug_fsms = Register(value=1),\n",
      "  out_traffic_cycles = Register(value=1745219905),\n",
      "  out_traffic_bytes = Register(value=37032661120),\n",
      "  out_traffic_packets = Register(value=578638335),\n",
      "  in_traffic_cycles = Register(value=0),\n",
      "  in_traffic_bytes = Register(value=0),\n",
      "  in_traffic_packets = Register(value=0),\n",
      "  summary_cycles = Register(value=0),\n",
      "  summary_bytes = Register(value=0),\n",
      "  summary_packets = Register(value=0),\n",
      "  debug_reset = Register(value=0)\n",
      "}\n",
      "RegisterMap {\n",
      "  CTRL = Register(AP_START=0, AP_DONE=0, AP_IDLE=1, AP_READY=0, AUTO_RESTART=0),\n",
      "  mode = Register(value=3),\n",
      "  dest_id = Register(value=0),\n",
      "  number_packets = Register(value=0),\n",
      "  number_beats = Register(value=0),\n",
      "  time_between_packets = Register(value=0),\n",
      "  reset_fsm = Register(value=0),\n",
      "  debug_fsms = Register(value=0),\n",
      "  out_traffic_cycles = Register(value=0),\n",
      "  out_traffic_bytes = Register(value=0),\n",
      "  out_traffic_packets = Register(value=0),\n",
      "  in_traffic_cycles = Register(value=1745505323),\n",
      "  in_traffic_bytes = Register(value=24075882944),\n",
      "  in_traffic_packets = Register(value=376187774),\n",
      "  summary_cycles = Register(value=0),\n",
      "  summary_bytes = Register(value=0),\n",
      "  summary_packets = Register(value=0),\n",
      "  debug_reset = Register(value=0)\n",
      "}\n"
     ]
    },
    {
     "name": "stdout",
     "output_type": "stream",
     "text": [
      "RegisterMap {\n",
      "  CTRL = Register(AP_START=1, AP_DONE=0, AP_IDLE=0, AP_READY=0, AUTO_RESTART=0),\n",
      "  mode = Register(value=0),\n",
      "  dest_id = Register(value=12),\n",
      "  number_packets = Register(value=1000000000),\n",
      "  number_beats = Register(value=1),\n",
      "  time_between_packets = Register(value=0),\n",
      "  reset_fsm = Register(value=0),\n",
      "  debug_fsms = Register(value=1),\n",
      "  out_traffic_cycles = Register(value=2036071438),\n",
      "  out_traffic_bytes = Register(value=43204339392),\n",
      "  out_traffic_packets = Register(value=675070830),\n",
      "  in_traffic_cycles = Register(value=0),\n",
      "  in_traffic_bytes = Register(value=0),\n",
      "  in_traffic_packets = Register(value=0),\n",
      "  summary_cycles = Register(value=0),\n",
      "  summary_bytes = Register(value=0),\n",
      "  summary_packets = Register(value=0),\n",
      "  debug_reset = Register(value=0)\n",
      "}\n",
      "RegisterMap {\n",
      "  CTRL = Register(AP_START=0, AP_DONE=0, AP_IDLE=1, AP_READY=0, AUTO_RESTART=0),\n",
      "  mode = Register(value=3),\n",
      "  dest_id = Register(value=0),\n",
      "  number_packets = Register(value=0),\n",
      "  number_beats = Register(value=0),\n",
      "  time_between_packets = Register(value=0),\n",
      "  reset_fsm = Register(value=0),\n",
      "  debug_fsms = Register(value=0),\n",
      "  out_traffic_cycles = Register(value=0),\n",
      "  out_traffic_bytes = Register(value=0),\n",
      "  out_traffic_packets = Register(value=0),\n",
      "  in_traffic_cycles = Register(value=2036356501),\n",
      "  in_traffic_bytes = Register(value=28087593600),\n",
      "  in_traffic_packets = Register(value=438870774),\n",
      "  summary_cycles = Register(value=0),\n",
      "  summary_bytes = Register(value=0),\n",
      "  summary_packets = Register(value=0),\n",
      "  debug_reset = Register(value=0)\n",
      "}\n",
      "RegisterMap {\n",
      "  CTRL = Register(AP_START=1, AP_DONE=0, AP_IDLE=0, AP_READY=0, AUTO_RESTART=0),\n",
      "  mode = Register(value=0),\n",
      "  dest_id = Register(value=12),\n",
      "  number_packets = Register(value=1000000000),\n",
      "  number_beats = Register(value=1),\n",
      "  time_between_packets = Register(value=0),\n",
      "  reset_fsm = Register(value=0),\n",
      "  debug_fsms = Register(value=1),\n",
      "  out_traffic_cycles = Register(value=2326933702),\n",
      "  out_traffic_bytes = Register(value=49376241408),\n",
      "  out_traffic_packets = Register(value=771506795),\n",
      "  in_traffic_cycles = Register(value=0),\n",
      "  in_traffic_bytes = Register(value=0),\n",
      "  in_traffic_packets = Register(value=0),\n",
      "  summary_cycles = Register(value=0),\n",
      "  summary_bytes = Register(value=0),\n",
      "  summary_packets = Register(value=0),\n",
      "  debug_reset = Register(value=0)\n",
      "}\n",
      "RegisterMap {\n",
      "  CTRL = Register(AP_START=0, AP_DONE=0, AP_IDLE=1, AP_READY=0, AUTO_RESTART=0),\n",
      "  mode = Register(value=3),\n",
      "  dest_id = Register(value=0),\n",
      "  number_packets = Register(value=0),\n",
      "  number_beats = Register(value=0),\n",
      "  time_between_packets = Register(value=0),\n",
      "  reset_fsm = Register(value=0),\n",
      "  debug_fsms = Register(value=0),\n",
      "  out_traffic_cycles = Register(value=0),\n",
      "  out_traffic_bytes = Register(value=0),\n",
      "  out_traffic_packets = Register(value=0),\n",
      "  in_traffic_cycles = Register(value=2327223157),\n",
      "  in_traffic_bytes = Register(value=32099513984),\n",
      "  in_traffic_packets = Register(value=501557049),\n",
      "  summary_cycles = Register(value=0),\n",
      "  summary_bytes = Register(value=0),\n",
      "  summary_packets = Register(value=0),\n",
      "  debug_reset = Register(value=0)\n",
      "}\n",
      "RegisterMap {\n",
      "  CTRL = Register(AP_START=1, AP_DONE=0, AP_IDLE=0, AP_READY=0, AUTO_RESTART=0),\n",
      "  mode = Register(value=0),\n",
      "  dest_id = Register(value=12),\n",
      "  number_packets = Register(value=1000000000),\n",
      "  number_beats = Register(value=1),\n",
      "  time_between_packets = Register(value=0),\n",
      "  reset_fsm = Register(value=0),\n",
      "  debug_fsms = Register(value=1),\n",
      "  out_traffic_cycles = Register(value=2617937390),\n",
      "  out_traffic_bytes = Register(value=55551154560),\n",
      "  out_traffic_packets = Register(value=867989844),\n",
      "  in_traffic_cycles = Register(value=0),\n",
      "  in_traffic_bytes = Register(value=0),\n",
      "  in_traffic_packets = Register(value=0),\n",
      "  summary_cycles = Register(value=0),\n",
      "  summary_bytes = Register(value=0),\n",
      "  summary_packets = Register(value=0),\n",
      "  debug_reset = Register(value=0)\n",
      "}\n",
      "RegisterMap {\n",
      "  CTRL = Register(AP_START=0, AP_DONE=0, AP_IDLE=1, AP_READY=0, AUTO_RESTART=0),\n",
      "  mode = Register(value=3),\n",
      "  dest_id = Register(value=0),\n",
      "  number_packets = Register(value=0),\n",
      "  number_beats = Register(value=0),\n",
      "  time_between_packets = Register(value=0),\n",
      "  reset_fsm = Register(value=0),\n",
      "  debug_fsms = Register(value=0),\n",
      "  out_traffic_cycles = Register(value=0),\n",
      "  out_traffic_bytes = Register(value=0),\n",
      "  out_traffic_packets = Register(value=0),\n",
      "  in_traffic_cycles = Register(value=2618228050),\n",
      "  in_traffic_bytes = Register(value=36113347008),\n",
      "  in_traffic_packets = Register(value=564273217),\n",
      "  summary_cycles = Register(value=0),\n",
      "  summary_bytes = Register(value=0),\n",
      "  summary_packets = Register(value=0),\n",
      "  debug_reset = Register(value=0)\n",
      "}\n",
      "RegisterMap {\n",
      "  CTRL = Register(AP_START=1, AP_DONE=0, AP_IDLE=0, AP_READY=0, AUTO_RESTART=0),\n",
      "  mode = Register(value=0),\n",
      "  dest_id = Register(value=12),\n",
      "  number_packets = Register(value=1000000000),\n",
      "  number_beats = Register(value=1),\n",
      "  time_between_packets = Register(value=0),\n",
      "  reset_fsm = Register(value=0),\n",
      "  debug_fsms = Register(value=1),\n",
      "  out_traffic_cycles = Register(value=2908801405),\n",
      "  out_traffic_bytes = Register(value=61723092800),\n",
      "  out_traffic_packets = Register(value=964426317),\n",
      "  in_traffic_cycles = Register(value=0),\n",
      "  in_traffic_bytes = Register(value=0),\n",
      "  in_traffic_packets = Register(value=0),\n",
      "  summary_cycles = Register(value=0),\n",
      "  summary_bytes = Register(value=0),\n",
      "  summary_packets = Register(value=0),\n",
      "  debug_reset = Register(value=0)\n",
      "}\n",
      "RegisterMap {\n",
      "  CTRL = Register(AP_START=0, AP_DONE=0, AP_IDLE=1, AP_READY=0, AUTO_RESTART=0),\n",
      "  mode = Register(value=3),\n",
      "  dest_id = Register(value=0),\n",
      "  number_packets = Register(value=0),\n",
      "  number_beats = Register(value=0),\n",
      "  time_between_packets = Register(value=0),\n",
      "  reset_fsm = Register(value=0),\n",
      "  debug_fsms = Register(value=0),\n",
      "  out_traffic_cycles = Register(value=0),\n",
      "  out_traffic_bytes = Register(value=0),\n",
      "  out_traffic_packets = Register(value=0),\n",
      "  in_traffic_cycles = Register(value=2909078947),\n",
      "  in_traffic_bytes = Register(value=40125047616),\n",
      "  in_traffic_packets = Register(value=626955936),\n",
      "  summary_cycles = Register(value=0),\n",
      "  summary_bytes = Register(value=0),\n",
      "  summary_packets = Register(value=0),\n",
      "  debug_reset = Register(value=0)\n",
      "}\n",
      "RegisterMap {\n",
      "  CTRL = Register(AP_START=0, AP_DONE=0, AP_IDLE=1, AP_READY=0, AUTO_RESTART=0),\n",
      "  mode = Register(value=0),\n",
      "  dest_id = Register(value=12),\n",
      "  number_packets = Register(value=1000000000),\n",
      "  number_beats = Register(value=1),\n",
      "  time_between_packets = Register(value=0),\n",
      "  reset_fsm = Register(value=0),\n",
      "  debug_fsms = Register(value=0),\n",
      "  out_traffic_cycles = Register(value=3016114299),\n",
      "  out_traffic_bytes = Register(value=64000000000),\n",
      "  out_traffic_packets = Register(value=1000000000),\n",
      "  in_traffic_cycles = Register(value=0),\n",
      "  in_traffic_bytes = Register(value=0),\n",
      "  in_traffic_packets = Register(value=0),\n",
      "  summary_cycles = Register(value=0),\n",
      "  summary_bytes = Register(value=0),\n",
      "  summary_packets = Register(value=0),\n",
      "  debug_reset = Register(value=0)\n",
      "}\n",
      "RegisterMap {\n",
      "  CTRL = Register(AP_START=0, AP_DONE=0, AP_IDLE=1, AP_READY=0, AUTO_RESTART=0),\n",
      "  mode = Register(value=3),\n",
      "  dest_id = Register(value=0),\n",
      "  number_packets = Register(value=0),\n",
      "  number_beats = Register(value=0),\n",
      "  time_between_packets = Register(value=0),\n",
      "  reset_fsm = Register(value=0),\n",
      "  debug_fsms = Register(value=0),\n",
      "  out_traffic_cycles = Register(value=0),\n",
      "  out_traffic_bytes = Register(value=0),\n",
      "  out_traffic_packets = Register(value=0),\n",
      "  in_traffic_cycles = Register(value=3016116145),\n",
      "  in_traffic_bytes = Register(value=41601273152),\n",
      "  in_traffic_packets = Register(value=650019893),\n",
      "  summary_cycles = Register(value=0),\n",
      "  summary_bytes = Register(value=0),\n",
      "  summary_packets = Register(value=0),\n",
      "  debug_reset = Register(value=0)\n",
      "}\n"
     ]
    }
   ],
   "source": [
    "pkt = 1_000_000_000\n",
    "ol_w0_0_tg.register_map.debug_reset = 1\n",
    "ol_w0_1_tg.register_map.debug_reset = 1\n",
    "ol_w0_0_tg.register_map.time_between_packets = 0\n",
    "ol_w0_0_tg.register_map.number_packets = pkt\n",
    "local_dict = {}\n",
    "beats = 1\n",
    "ol_w0_0_tg.register_map.number_beats = beats\n",
    "ol_w0_0_tg.register_map.CTRL.AP_START = 1\n",
    "while int(ol_w0_0_tg.register_map.out_traffic_packets) != pkt:\n",
    "    time.sleep(1)\n",
    "    print(ol_w0_0_tg.register_map)\n",
    "    print(ol_w0_1_tg.register_map)"
   ]
  },
  {
   "cell_type": "code",
   "execution_count": 360,
   "metadata": {},
   "outputs": [
    {
     "name": "stdout",
     "output_type": "stream",
     "text": [
      "Sent  1,000,000,000 size:   64-Byte done!\tGot    650,019,899 took  10.2589 sec, thr: 32.441 Gbps, theoretical: 100.000 Gbps, difference: 67.559 Gbps\n"
     ]
    }
   ],
   "source": [
    "payload = 64\n",
    "# Get results from local and remote worker\n",
    "tx_tot_pkt, tx_thr, tx_time = ol_w0_0_tg.computeThroughputApp('tx')\n",
    "rx_tot_pkt, rx_thr, rx_time = ol_w0_1_tg.computeThroughputApp('rx')\n",
    "#Create dict entry for this particular experiment\n",
    "entry_dict = {'size': (beats * payload), 'rx_pkts' : rx_tot_pkt, 'tx_thr': tx_thr, 'rx_thr': rx_thr}\n",
    "local_dict[beats] = entry_dict\n",
    "# Reset probes to prepare for next computation\n",
    "ol_w0_0_tg.resetProbes()\n",
    "ol_w0_1_tg.resetProbes()\n",
    "#Compute theoretical maximum at application level, overhead is UDP (8), IP (20), Ethernet(14) and FCS (4)\n",
    "theoretical = (beats * payload * 100)/((beats*18)+8+20+14+4) \n",
    "print(\"Sent {:14,} size: {:4}-Byte done!\tGot {:14,} took {:8.4f} sec, thr: {:.3f} Gbps, theoretical: {:.3f} Gbps, difference: {:6.3f} Gbps\"\\\n",
    "      .format(pkt,beats*payload, rx_tot_pkt, rx_time, rx_thr, theoretical, theoretical-rx_thr))\n",
    "time.sleep(0.5)\n",
    "experiment_dict[pkt] = local_dict"
   ]
  },
  {
   "cell_type": "code",
   "execution_count": 367,
   "metadata": {},
   "outputs": [
    {
     "data": {
      "text/plain": [
       "(1000000000, 49.90791977528678, 10.258892823129251)"
      ]
     },
     "execution_count": 367,
     "metadata": {},
     "output_type": "execute_result"
    }
   ],
   "source": [
    "tx_tot_pkt, tx_thr, tx_time"
   ]
  },
  {
   "cell_type": "code",
   "execution_count": 368,
   "metadata": {},
   "outputs": [
    {
     "name": "stdout",
     "output_type": "stream",
     "text": [
      "Sent      1,000,000 size:   64-Byte done!\tGot        411,928 took   0.0104 sec, thr: 20.331 Gbps, theoretical: 58.182 Gbps, difference: 37.851 Gbps\n",
      "Sent      1,000,000 size:  128-Byte done!\tGot        450,633 took   0.0171 sec, thr: 26.998 Gbps, theoretical: 73.563 Gbps, difference: 46.565 Gbps\n",
      "Sent      1,000,000 size:  192-Byte done!\tGot        408,731 took   0.0205 sec, thr: 30.592 Gbps, theoretical: 80.672 Gbps, difference: 50.080 Gbps\n",
      "Sent      1,000,000 size:  256-Byte done!\tGot        409,355 took   0.0256 sec, thr: 32.810 Gbps, theoretical: 84.768 Gbps, difference: 51.958 Gbps\n",
      "Sent      1,000,000 size:  320-Byte done!\tGot        403,546 took   0.0306 sec, thr: 33.789 Gbps, theoretical: 87.432 Gbps, difference: 53.642 Gbps\n",
      "Sent      1,000,000 size:  384-Byte done!\tGot        403,545 took   0.0356 sec, thr: 34.780 Gbps, theoretical: 89.302 Gbps, difference: 54.522 Gbps\n",
      "Sent      1,000,000 size:  448-Byte done!\tGot        403,543 took   0.0407 sec, thr: 35.525 Gbps, theoretical: 90.688 Gbps, difference: 55.164 Gbps\n",
      "Sent      1,000,000 size:  512-Byte done!\tGot        403,530 took   0.0458 sec, thr: 36.104 Gbps, theoretical: 91.756 Gbps, difference: 55.652 Gbps\n",
      "Sent      1,000,000 size:  576-Byte done!\tGot        402,664 took   0.0508 sec, thr: 36.522 Gbps, theoretical: 92.605 Gbps, difference: 56.083 Gbps\n",
      "Sent      1,000,000 size:  640-Byte done!\tGot        402,651 took   0.0559 sec, thr: 36.901 Gbps, theoretical: 93.294 Gbps, difference: 56.393 Gbps\n",
      "Sent      1,000,000 size:  704-Byte done!\tGot        402,672 took   0.0609 sec, thr: 37.218 Gbps, theoretical: 93.867 Gbps, difference: 56.649 Gbps\n",
      "Sent      1,000,000 size:  768-Byte done!\tGot        402,123 took   0.0660 sec, thr: 37.457 Gbps, theoretical: 94.349 Gbps, difference: 56.892 Gbps\n",
      "Sent      1,000,000 size:  832-Byte done!\tGot        402,226 took   0.0710 sec, thr: 37.686 Gbps, theoretical: 94.761 Gbps, difference: 57.075 Gbps\n",
      "Sent      1,000,000 size:  896-Byte done!\tGot        402,133 took   0.0761 sec, thr: 37.885 Gbps, theoretical: 95.117 Gbps, difference: 57.232 Gbps\n",
      "Sent      1,000,000 size:  960-Byte done!\tGot        401,784 took   0.0811 sec, thr: 38.040 Gbps, theoretical: 95.427 Gbps, difference: 57.388 Gbps\n",
      "Sent      1,000,000 size: 1024-Byte done!\tGot        401,779 took   0.0862 sec, thr: 38.193 Gbps, theoretical: 95.701 Gbps, difference: 57.508 Gbps\n",
      "Sent      1,000,000 size: 1088-Byte done!\tGot        401,778 took   0.0912 sec, thr: 38.330 Gbps, theoretical: 95.944 Gbps, difference: 57.614 Gbps\n",
      "Sent      1,000,000 size: 1152-Byte done!\tGot        401,531 took   0.0963 sec, thr: 38.438 Gbps, theoretical: 96.160 Gbps, difference: 57.722 Gbps\n",
      "Sent      1,000,000 size: 1216-Byte done!\tGot        401,526 took   0.1013 sec, thr: 38.548 Gbps, theoretical: 96.355 Gbps, difference: 57.807 Gbps\n",
      "Sent      1,000,000 size: 1280-Byte done!\tGot        401,594 took   0.1064 sec, thr: 38.648 Gbps, theoretical: 96.531 Gbps, difference: 57.883 Gbps\n",
      "Sent      1,000,000 size: 1344-Byte done!\tGot        401,594 took   0.1115 sec, thr: 38.738 Gbps, theoretical: 96.691 Gbps, difference: 57.953 Gbps\n",
      "Sent      1,000,000 size: 1408-Byte done!\tGot        401,338 took   0.1165 sec, thr: 38.810 Gbps, theoretical: 96.836 Gbps, difference: 58.026 Gbps\n",
      "Sent      1,000,000 size: 1472-Byte done!\tGot        401,340 took   0.1215 sec, thr: 38.886 Gbps, theoretical: 96.970 Gbps, difference: 58.084 Gbps\n",
      "Sent  1,000,000,000 size:   64-Byte done!\tGot    418,327,426 took  10.2590 sec, thr: 20.878 Gbps, theoretical: 58.182 Gbps, difference: 37.304 Gbps\n",
      "Sent  1,000,000,000 size:  128-Byte done!\tGot    444,370,509 took  17.0069 sec, thr: 26.756 Gbps, theoretical: 73.563 Gbps, difference: 46.807 Gbps\n",
      "Sent  1,000,000,000 size:  192-Byte done!\tGot    400,968,186 took  20.4083 sec, thr: 30.178 Gbps, theoretical: 80.672 Gbps, difference: 50.494 Gbps\n",
      "Sent  1,000,000,000 size:  256-Byte done!\tGot    400,024,441 took  25.4106 sec, thr: 32.240 Gbps, theoretical: 84.768 Gbps, difference: 52.528 Gbps\n",
      "Sent  1,000,000,000 size:  320-Byte done!\tGot    400,017,332 took  30.4612 sec, thr: 33.618 Gbps, theoretical: 87.432 Gbps, difference: 53.814 Gbps\n",
      "Sent  1,000,000,000 size:  384-Byte done!\tGot    400,017,345 took  35.5117 sec, thr: 34.604 Gbps, theoretical: 89.302 Gbps, difference: 54.698 Gbps\n",
      "Sent  1,000,000,000 size:  448-Byte done!\tGot    400,017,339 took  40.5623 sec, thr: 35.345 Gbps, theoretical: 90.688 Gbps, difference: 55.344 Gbps\n",
      "Sent  1,000,000,000 size:  512-Byte done!\tGot    400,017,325 took  45.6128 sec, thr: 35.921 Gbps, theoretical: 91.756 Gbps, difference: 55.835 Gbps\n",
      "Sent  1,000,000,000 size:  576-Byte done!\tGot    400,016,477 took  50.6633 sec, thr: 36.383 Gbps, theoretical: 92.605 Gbps, difference: 56.222 Gbps\n",
      "Sent  1,000,000,000 size:  640-Byte done!\tGot    400,016,460 took  55.7139 sec, thr: 36.761 Gbps, theoretical: 93.294 Gbps, difference: 56.534 Gbps\n",
      "Sent  1,000,000,000 size:  704-Byte done!\tGot    400,016,473 took  60.7644 sec, thr: 37.076 Gbps, theoretical: 93.867 Gbps, difference: 56.791 Gbps\n",
      "Sent  1,000,000,000 size:  768-Byte done!\tGot    400,015,941 took  65.8149 sec, thr: 37.343 Gbps, theoretical: 94.349 Gbps, difference: 57.006 Gbps\n",
      "Sent  1,000,000,000 size:  832-Byte done!\tGot    400,016,033 took  70.8655 sec, thr: 37.571 Gbps, theoretical: 94.761 Gbps, difference: 57.190 Gbps\n",
      "Sent  1,000,000,000 size:  896-Byte done!\tGot    400,015,935 took  75.9160 sec, thr: 37.770 Gbps, theoretical: 95.117 Gbps, difference: 57.347 Gbps\n",
      "Sent  1,000,000,000 size:  960-Byte done!\tGot    400,015,587 took  80.9665 sec, thr: 37.943 Gbps, theoretical: 95.427 Gbps, difference: 57.484 Gbps\n",
      "Sent  1,000,000,000 size: 1024-Byte done!\tGot    400,015,588 took  86.0171 sec, thr: 38.096 Gbps, theoretical: 95.701 Gbps, difference: 57.605 Gbps\n",
      "Sent  1,000,000,000 size: 1088-Byte done!\tGot    400,015,587 took  91.0676 sec, thr: 38.232 Gbps, theoretical: 95.944 Gbps, difference: 57.711 Gbps\n",
      "Sent  1,000,000,000 size: 1152-Byte done!\tGot    400,015,338 took  96.1181 sec, thr: 38.354 Gbps, theoretical: 96.160 Gbps, difference: 57.806 Gbps\n",
      "Sent  1,000,000,000 size: 1216-Byte done!\tGot    400,015,331 took 101.1687 sec, thr: 38.464 Gbps, theoretical: 96.355 Gbps, difference: 57.891 Gbps\n",
      "Sent  1,000,000,000 size: 1280-Byte done!\tGot    400,015,334 took 106.2192 sec, thr: 38.563 Gbps, theoretical: 96.531 Gbps, difference: 57.968 Gbps\n",
      "Sent  1,000,000,000 size: 1344-Byte done!\tGot    400,015,400 took 111.2698 sec, thr: 38.653 Gbps, theoretical: 96.691 Gbps, difference: 58.037 Gbps\n",
      "Sent  1,000,000,000 size: 1408-Byte done!\tGot    400,015,148 took 116.3203 sec, thr: 38.736 Gbps, theoretical: 96.836 Gbps, difference: 58.100 Gbps\n",
      "Sent  1,000,000,000 size: 1472-Byte done!\tGot    400,015,152 took 121.3709 sec, thr: 38.811 Gbps, theoretical: 96.970 Gbps, difference: 58.158 Gbps\n"
     ]
    }
   ],
   "source": [
    "for pkt in [1_000_000, 1_000_000_000]:\n",
    "    ol_w0_0_tg.register_map.debug_reset = 1\n",
    "    ol_w0_1_tg.register_map.debug_reset = 1\n",
    "    ol_w0_0_tg.register_map.time_between_packets = 0\n",
    "    ol_w0_0_tg.register_map.number_packets = pkt\n",
    "    local_dict = {}\n",
    "    for i in range(23):\n",
    "        beats = i + 1\n",
    "        ol_w0_0_tg.register_map.number_beats = beats\n",
    "        ol_w0_0_tg.register_map.CTRL.AP_START = 1\n",
    "        while int(ol_w0_0_tg.register_map.out_traffic_packets) != pkt:\n",
    "            time.sleep(0.8)\n",
    "        # Get results from local and remote worker\n",
    "        rx_tot_pkt, rx_thr, rx_time = ol_w0_1_tg.computeThroughputApp('rx')\n",
    "        tx_tot_pkt, tx_thr, tx_time = ol_w0_0_tg.computeThroughputApp('tx')\n",
    "        #Create dict entry for this particular experiment\n",
    "        entry_dict = {'size': (beats * 64), 'rx_pkts' : rx_tot_pkt, 'tx_thr': tx_thr, 'rx_thr': rx_thr}\n",
    "        local_dict[beats] = entry_dict\n",
    "        # Reset probes to prepare for next computation\n",
    "        ol_w0_0_tg.resetProbes()\n",
    "        ol_w0_1_tg.resetProbes()\n",
    "        #Compute theoretical maximum at application level, overhead is UDP (8), IP (20), Ethernet(14) and FCS (4)\n",
    "        theoretical = (beats * 64 * 100)/((beats*64)+8+20+14+4) \n",
    "        print(\"Sent {:14,} size: {:4}-Byte done!\tGot {:14,} took {:8.4f} sec, thr: {:.3f} Gbps, theoretical: {:.3f} Gbps, difference: {:6.3f} Gbps\"\\\n",
    "              .format(pkt,beats*64, rx_tot_pkt, rx_time, rx_thr, theoretical, theoretical-rx_thr))\n",
    "        time.sleep(0.5)\n",
    "    experiment_dict[pkt] = local_dict"
   ]
  },
  {
   "cell_type": "markdown",
   "metadata": {},
   "source": [
    "## Plot the results\n",
    "Finally we can plot the results using matplotlib"
   ]
  },
  {
   "cell_type": "code",
   "execution_count": 378,
   "metadata": {},
   "outputs": [
    {
     "data": {
      "image/png": "[encoded data removed]",
      "text/plain": [
       "<Figure size 1332x504 with 1 Axes>"
      ]
     },
     "metadata": {
      "needs_background": "light"
     },
     "output_type": "display_data"
    }
   ],
   "source": [
    "%matplotlib inline\n",
    "import matplotlib.pyplot as plt\n",
    "\n",
    "dict_oneM = experiment_dict[1_000_000]\n",
    "dict_oneB = experiment_dict[1_000_000_000]\n",
    "labels = []\n",
    "oneM_thr = []\n",
    "oneB_thr = []\n",
    "\n",
    "for b in dict_oneM:\n",
    "    labels.append(dict_oneM[b]['size'])\n",
    "    # oneM_thr.append(dict_oneM[b]['rx_thr']\n",
    "    dict_oneM[b]['pkt_thr'] = dict_oneM[b]['rx_thr'] * ((dict_oneM[b]['size'] + 46) / (dict_oneM[b]['size']))\n",
    "    oneM_thr.append(dict_oneM[b]['rx_thr'] * ((dict_oneM[b]['size'] + 46) / (dict_oneM[b]['size'])))\n",
    "\n",
    "for b in dict_oneB:\n",
    "    # oneB_thr.append(dict_oneB[b]['rx_thr'])\n",
    "    oneB_thr.append(dict_oneB[b]['rx_thr'] * ((dict_oneB[b]['size'] + 46) / (dict_oneB[b]['size'])))\n",
    "\n",
    "x = np.arange(len(labels))  # the label locations\n",
    "width = 0.35  # the width of the bars\n",
    "\n",
    "fig, ax = plt.subplots()\n",
    "rects1 = ax.bar(x - width/2, oneM_thr, width, label='A Million Packets')\n",
    "rects2 = ax.bar(x + width/2, oneB_thr, width, label='A Billion Packets')\n",
    "\n",
    "# Add some text for labels, title and custom x-axis tick labels, etc.\n",
    "ax.set_ylabel('Throughput (Gbit/s)')\n",
    "ax.set_xlabel('Payload Size (Byte)')\n",
    "ax.set_title('Throughput for different packet size at application level')\n",
    "ax.set_xticks(x)\n",
    "ax.set_xticklabels(labels)\n",
    "ax.legend()\n",
    "# ax.set_ylim(40,100)\n",
    "fig.set_size_inches(18.5, 7)\n",
    "plt.show()"
   ]
  },
  {
   "cell_type": "code",
   "execution_count": 383,
   "metadata": {
    "scrolled": false
   },
   "outputs": [
    {
     "name": "stdout",
     "output_type": "stream",
     "text": [
      "64 34.94440719046657\n",
      "128 36.701029361316394\n",
      "192 37.92180611892777\n",
      "256 38.7056260238272\n",
      "320 38.6464697807204\n",
      "384 38.946739568156396\n",
      "448 39.172193769416516\n",
      "512 39.347998296205425\n",
      "576 39.4385839756966\n",
      "640 39.55348286502699\n",
      "704 39.649371092352766\n",
      "768 39.70025019104319\n",
      "832 39.769802742128135\n",
      "896 39.83014689597716\n",
      "960 39.862620772846796\n",
      "1024 39.90914474278075\n",
      "1088 39.95050686867915\n",
      "1152 39.97299781846425\n",
      "1216 40.00633316564152\n",
      "1280 40.036496539187304\n",
      "1344 40.06392147720196\n",
      "1408 40.07797949074557\n",
      "1472 40.10095744974103\n"
     ]
    }
   ],
   "source": [
    "for b in dict_oneM:\n",
    "    print(dict_oneM[b][\"size\"], dict_oneM[b][\"pkt_thr\"])"
   ]
  },
  {
   "cell_type": "markdown",
   "metadata": {},
   "source": [
    "## Release Alveo cards\n",
    "To release the alveo cards the pynq overlay is freed"
   ]
  },
  {
   "cell_type": "code",
   "execution_count": 81,
   "metadata": {},
   "outputs": [],
   "source": [
    "pynq.Overlay.free(ol_w0)"
   ]
  },
  {
   "cell_type": "markdown",
   "metadata": {},
   "source": [
    "------------------------------------------\n",
    "Copyright (c) 2020-2021, Xilinx, Inc."
   ]
  }
 ],
 "metadata": {
  "kernelspec": {
   "display_name": "Python 3 (ipykernel)",
   "language": "python",
   "name": "python3"
  },
  "language_info": {
   "codemirror_mode": {
    "name": "ipython",
    "version": 3
   },
   "file_extension": ".py",
   "mimetype": "text/x-python",
   "name": "python",
   "nbconvert_exporter": "python",
   "pygments_lexer": "ipython3",
   "version": "3.9.7"
  }
 },
 "nbformat": 4,
 "nbformat_minor": 4
}
