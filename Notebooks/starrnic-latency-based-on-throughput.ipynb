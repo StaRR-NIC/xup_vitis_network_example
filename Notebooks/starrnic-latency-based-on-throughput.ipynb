{
 "cells": [
  {
   "cell_type": "markdown",
   "metadata": {},
   "source": [
    "# Benchmark Throughput experiment (Switch)\n",
    "This notebook will show you how to measure the throughput between two Alveo nodes using the benchmark application with UDP as a transport protocol.\n",
    "We are going to rely on a Dask cluster to configure the local and remote Alveo cards.\n",
    "\n",
    "This notebook assumes:\n",
    "* The Alveo cards are connected to a switch\n",
    "* Dask cluster is already created and running. For more information about setting up a Dask cluster visit the [Dask documentation](https://docs.dask.org/en/latest/setup.html)"
   ]
  },
  {
   "cell_type": "code",
   "execution_count": 1,
   "metadata": {},
   "outputs": [
    {
     "data": {
      "application/javascript": [
       "\n",
       "try {\n",
       "require(['notebook/js/codecell'], function(codecell) {\n",
       "  codecell.CodeCell.options_default.highlight_modes[\n",
       "      'magic_text/x-csrc'] = {'reg':[/^%%microblaze/]};\n",
       "  Jupyter.notebook.events.one('kernel_ready.Kernel', function(){\n",
       "      Jupyter.notebook.get_cells().map(function(cell){\n",
       "          if (cell.cell_type == 'code'){ cell.auto_highlight(); } }) ;\n",
       "  });\n",
       "});\n",
       "} catch (e) {};\n"
      ]
     },
     "metadata": {},
     "output_type": "display_data"
    },
    {
     "data": {
      "application/javascript": [
       "\n",
       "try {\n",
       "require(['notebook/js/codecell'], function(codecell) {\n",
       "  codecell.CodeCell.options_default.highlight_modes[\n",
       "      'magic_text/x-csrc'] = {'reg':[/^%%pybind11/]};\n",
       "  Jupyter.notebook.events.one('kernel_ready.Kernel', function(){\n",
       "      Jupyter.notebook.get_cells().map(function(cell){\n",
       "          if (cell.cell_type == 'code'){ cell.auto_highlight(); } }) ;\n",
       "  });\n",
       "});\n",
       "} catch (e) {};\n"
      ]
     },
     "metadata": {},
     "output_type": "display_data"
    }
   ],
   "source": [
    "from vnx_utils import *\n",
    "import pynq"
   ]
  },
  {
   "cell_type": "code",
   "execution_count": 2,
   "metadata": {},
   "outputs": [],
   "source": [
    "import sys\n",
    "import os"
   ]
  },
  {
   "cell_type": "code",
   "execution_count": 3,
   "metadata": {},
   "outputs": [],
   "source": [
    "workers = pynq.Device.devices"
   ]
  },
  {
   "cell_type": "markdown",
   "metadata": {},
   "source": [
    "## Download xclbin to Alveo cards\n",
    "1. Create Dask device for each worker\n",
    "2. Create an overlay object for each worker, this step will download the `xclbin` file to the Alveo card"
   ]
  },
  {
   "cell_type": "code",
   "execution_count": 4,
   "metadata": {},
   "outputs": [],
   "source": [
    "xclbin = '/home/ubuntu/Projects/StaRR-NIC/xup_vitis_network_example/benchmark.intf3.xilinx_u280_xdma_201920_3/vnx_benchmark_if3.xclbin'\n",
    "ol_w0 = pynq.Overlay(xclbin, device=workers[0])"
   ]
  },
  {
   "cell_type": "markdown",
   "metadata": {},
   "source": [
    "## Check Link \n",
    "\n",
    "We are going to use the function `linkStatus` that reports if the CMAC is detecting link, which means that the physical connection\n",
    "between each Alveo card and the switch is established."
   ]
  },
  {
   "cell_type": "code",
   "execution_count": 5,
   "metadata": {},
   "outputs": [
    {
     "name": "stdout",
     "output_type": "stream",
     "text": [
      "Link worker 0_0 {'cmac_link': True}, worker 0_1 {'cmac_link': True}\n"
     ]
    }
   ],
   "source": [
    "print(\"Link worker 0_0 {}, worker 0_1 {}\".format(ol_w0.cmac_0.linkStatus(), ol_w0.cmac_1.linkStatus()))"
   ]
  },
  {
   "cell_type": "markdown",
   "metadata": {},
   "source": [
    "## Configure IP address of the Alveo cards\n",
    "In the next cell we are going to configure the IP address of the two Alveo cards"
   ]
  },
  {
   "cell_type": "code",
   "execution_count": 6,
   "metadata": {},
   "outputs": [
    {
     "name": "stdout",
     "output_type": "stream",
     "text": [
      "Worker 0_0: {'HWaddr': '00:0a:35:02:9d:2f', 'inet addr': '10.0.0.47', 'gateway addr': '10.0.0.1', 'Mask': '255.255.255.0'}\n",
      "Worker 0_1: {'HWaddr': '00:0a:35:02:9d:2d', 'inet addr': '10.0.0.45', 'gateway addr': '10.0.0.1', 'Mask': '255.255.255.0'}\n"
     ]
    }
   ],
   "source": [
    "ip_w0_0, ip_w0_1 = '10.0.0.47', '10.0.0.45'\n",
    "if_status_w0_0 = ol_w0.networklayer_0.updateIPAddress(ip_w0_0, debug=True)\n",
    "if_status_w0_1 = ol_w0.networklayer_1.updateIPAddress(ip_w0_1, debug=True)\n",
    "print(\"Worker 0_0: {}\\nWorker 0_1: {}\".format(if_status_w0_0, if_status_w0_1))"
   ]
  },
  {
   "cell_type": "markdown",
   "metadata": {},
   "source": [
    "## One way experiment with XL710"
   ]
  },
  {
   "cell_type": "code",
   "execution_count": 7,
   "metadata": {},
   "outputs": [],
   "source": [
    "n3_data = {\n",
    "    'ip_tx_0': '10.0.0.55',\n",
    "    'ip_rx_1': '10.0.0.57',\n",
    "    'mac_rx_1': '00:0a:35:bd:11:be',\n",
    "    'mac_tx_0': '00:0a:35:dd:4b:c4',\n",
    "    'sport': 64000,\n",
    "    'dport': 64001,\n",
    "}\n",
    "\n",
    "tx_src_port, tx_dst_port = 60512, 62177\n",
    "tx_dst_ip = n3_data['ip_rx_1']\n",
    "tx_dst_mac = n3_data['mac_rx_1']\n",
    "\n",
    "# The ports are from the reference of n5 (not in the packet)\n",
    "rx_src_port, rx_dst_port = n3_data['dport'], n3_data['sport']\n",
    "rx_src_ip = n3_data['ip_tx_0']\n",
    "rx_src_mac = n3_data['mac_tx_0']"
   ]
  },
  {
   "cell_type": "markdown",
   "metadata": {},
   "source": [
    "### Configure port 0\n",
    "\n",
    "1. Set up connection table\n",
    "2. Launch ARP discovery\n",
    "3. Print out ARP Table "
   ]
  },
  {
   "cell_type": "code",
   "execution_count": 8,
   "metadata": {},
   "outputs": [
    {
     "data": {
      "text/plain": [
       "{45: {'MAC address': '00:0a:35:02:9d:2d', 'IP address': '10.0.0.45'},\n",
       " 55: {'MAC address': '00:0a:35:dd:4b:c4', 'IP address': '10.0.0.55'},\n",
       " 57: {'MAC address': '00:0a:35:bd:11:be', 'IP address': '10.0.0.57'},\n",
       " 61: {'MAC address': '40:a6:b7:22:ab:89', 'IP address': '10.0.0.61'},\n",
       " 63: {'MAC address': '40:a6:b7:22:ab:89', 'IP address': '10.0.0.63'}}"
      ]
     },
     "execution_count": 8,
     "metadata": {},
     "output_type": "execute_result"
    }
   ],
   "source": [
    "ol_w0.networklayer_0.resetDebugProbes()\n",
    "ol_w0.networklayer_0.sockets[2] = (tx_dst_ip, tx_dst_port, tx_src_port, True)\n",
    "ol_w0.networklayer_0.sockets[1] = (rx_src_ip, rx_dst_port, rx_src_port, True)\n",
    "ol_w0.networklayer_0.populateSocketTable()\n",
    "\n",
    "ol_w0.networklayer_0.arpDiscovery()\n",
    "ol_w0.networklayer_0.write_arp_entry(tx_dst_mac, tx_dst_ip)\n",
    "ol_w0.networklayer_0.write_arp_entry(rx_src_mac, rx_src_ip)\n",
    "ol_w0.networklayer_0.readARPTable()"
   ]
  },
  {
   "cell_type": "code",
   "execution_count": 9,
   "metadata": {},
   "outputs": [
    {
     "data": {
      "application/json": {
       "rx_path": {
        "app": {
         "bytes": 0,
         "cycles": 0,
         "packets": 0
        },
        "arp": {
         "bytes": 60,
         "cycles": 1,
         "packets": 1
        },
        "ethernet": {
         "bytes": 60,
         "cycles": 1,
         "packets": 1
        },
        "icmp": {
         "bytes": 0,
         "cycles": 0,
         "packets": 0
        },
        "packet_handler": {
         "bytes": 60,
         "cycles": 1,
         "packets": 1
        },
        "udp": {
         "bytes": 0,
         "cycles": 0,
         "packets": 0
        }
       },
       "tx_path": {
        "app": {
         "bytes": 0,
         "cycles": 0,
         "packets": 0
        },
        "arp": {
         "bytes": 15180,
         "cycles": 2041,
         "packets": 253
        },
        "ethernet": {
         "bytes": 15180,
         "cycles": 2041,
         "packets": 253
        },
        "ethernet_header_inserter": {
         "bytes": 0,
         "cycles": 0,
         "packets": 0
        },
        "icmp": {
         "bytes": 0,
         "cycles": 0,
         "packets": 0
        },
        "udp": {
         "bytes": 0,
         "cycles": 0,
         "packets": 0
        }
       }
      },
      "text/plain": [
       "{'tx_path': {'arp': {'packets': 253, 'bytes': 15180, 'cycles': 2041},\n",
       "  'icmp': {'packets': 0, 'bytes': 0, 'cycles': 0},\n",
       "  'ethernet_header_inserter': {'packets': 0, 'bytes': 0, 'cycles': 0},\n",
       "  'ethernet': {'packets': 253, 'bytes': 15180, 'cycles': 2041},\n",
       "  'app': {'packets': 0, 'bytes': 0, 'cycles': 0},\n",
       "  'udp': {'packets': 0, 'bytes': 0, 'cycles': 0}},\n",
       " 'rx_path': {'ethernet': {'packets': 1, 'bytes': 60, 'cycles': 1},\n",
       "  'packet_handler': {'packets': 1, 'bytes': 60, 'cycles': 1},\n",
       "  'arp': {'packets': 1, 'bytes': 60, 'cycles': 1},\n",
       "  'icmp': {'packets': 0, 'bytes': 0, 'cycles': 0},\n",
       "  'udp': {'packets': 0, 'bytes': 0, 'cycles': 0},\n",
       "  'app': {'packets': 0, 'bytes': 0, 'cycles': 0}}}"
      ]
     },
     "execution_count": 9,
     "metadata": {
      "application/json": {
       "expanded": false,
       "root": "debug_probes"
      }
     },
     "output_type": "execute_result"
    }
   ],
   "source": [
    "ol_w0.networklayer_0.getDebugProbes"
   ]
  },
  {
   "cell_type": "markdown",
   "metadata": {},
   "source": [
    "### Configure port 1\n",
    "\n",
    "1. Set up connection table\n",
    "2. Launch ARP discovery\n",
    "3. Print out ARP Table "
   ]
  },
  {
   "cell_type": "code",
   "execution_count": 10,
   "metadata": {},
   "outputs": [
    {
     "data": {
      "text/plain": [
       "{47: {'MAC address': '00:0a:35:02:9d:2f', 'IP address': '10.0.0.47'},\n",
       " 55: {'MAC address': '00:0a:35:dd:4b:c4', 'IP address': '10.0.0.55'},\n",
       " 57: {'MAC address': '00:0a:35:bd:11:be', 'IP address': '10.0.0.57'},\n",
       " 61: {'MAC address': '40:a6:b7:22:ab:89', 'IP address': '10.0.0.61'},\n",
       " 63: {'MAC address': '40:a6:b7:22:ab:89', 'IP address': '10.0.0.63'}}"
      ]
     },
     "execution_count": 10,
     "metadata": {},
     "output_type": "execute_result"
    }
   ],
   "source": [
    "ol_w0.networklayer_1.resetDebugProbes()\n",
    "ol_w0.networklayer_1.sockets[1] = (rx_src_ip, rx_dst_port, rx_src_port, True)\n",
    "ol_w0.networklayer_1.populateSocketTable()\n",
    "\n",
    "ol_w0.networklayer_1.arpDiscovery()\n",
    "ol_w0.networklayer_1.write_arp_entry(tx_dst_mac, tx_dst_ip)\n",
    "ol_w0.networklayer_1.write_arp_entry(rx_src_mac, rx_src_ip)\n",
    "ol_w0.networklayer_1.readARPTable()"
   ]
  },
  {
   "cell_type": "code",
   "execution_count": 11,
   "metadata": {},
   "outputs": [
    {
     "data": {
      "application/json": {
       "rx_path": {
        "app": {
         "bytes": 0,
         "cycles": 0,
         "packets": 0
        },
        "arp": {
         "bytes": 0,
         "cycles": 0,
         "packets": 0
        },
        "ethernet": {
         "bytes": 0,
         "cycles": 0,
         "packets": 0
        },
        "icmp": {
         "bytes": 0,
         "cycles": 0,
         "packets": 0
        },
        "packet_handler": {
         "bytes": 0,
         "cycles": 0,
         "packets": 0
        },
        "udp": {
         "bytes": 0,
         "cycles": 0,
         "packets": 0
        }
       },
       "tx_path": {
        "app": {
         "bytes": 0,
         "cycles": 0,
         "packets": 0
        },
        "arp": {
         "bytes": 15060,
         "cycles": 2041,
         "packets": 251
        },
        "ethernet": {
         "bytes": 15060,
         "cycles": 2041,
         "packets": 251
        },
        "ethernet_header_inserter": {
         "bytes": 0,
         "cycles": 0,
         "packets": 0
        },
        "icmp": {
         "bytes": 0,
         "cycles": 0,
         "packets": 0
        },
        "udp": {
         "bytes": 0,
         "cycles": 0,
         "packets": 0
        }
       }
      },
      "text/plain": [
       "{'tx_path': {'arp': {'packets': 251, 'bytes': 15060, 'cycles': 2041},\n",
       "  'icmp': {'packets': 0, 'bytes': 0, 'cycles': 0},\n",
       "  'ethernet_header_inserter': {'packets': 0, 'bytes': 0, 'cycles': 0},\n",
       "  'ethernet': {'packets': 251, 'bytes': 15060, 'cycles': 2041},\n",
       "  'app': {'packets': 0, 'bytes': 0, 'cycles': 0},\n",
       "  'udp': {'packets': 0, 'bytes': 0, 'cycles': 0}},\n",
       " 'rx_path': {'ethernet': {'packets': 0, 'bytes': 0, 'cycles': 0},\n",
       "  'packet_handler': {'packets': 0, 'bytes': 0, 'cycles': 0},\n",
       "  'arp': {'packets': 0, 'bytes': 0, 'cycles': 0},\n",
       "  'icmp': {'packets': 0, 'bytes': 0, 'cycles': 0},\n",
       "  'udp': {'packets': 0, 'bytes': 0, 'cycles': 0},\n",
       "  'app': {'packets': 0, 'bytes': 0, 'cycles': 0}}}"
      ]
     },
     "execution_count": 11,
     "metadata": {
      "application/json": {
       "expanded": false,
       "root": "debug_probes"
      }
     },
     "output_type": "execute_result"
    }
   ],
   "source": [
    "ol_w0.networklayer_1.getDebugProbes"
   ]
  },
  {
   "cell_type": "markdown",
   "metadata": {},
   "source": [
    "## Configure application\n",
    "* Configure port 1 traffic generator 1 in `CONSUMER` mode"
   ]
  },
  {
   "cell_type": "markdown",
   "metadata": {},
   "source": [
    "### Configure local benchmark application\n",
    "This part configures the collector, in particular\n",
    "* Allocate buffers\n",
    "* Start collector"
   ]
  },
  {
   "cell_type": "code",
   "execution_count": 12,
   "metadata": {},
   "outputs": [],
   "source": [
    "send_packets   = 2 ** 24\n",
    "shape          = (send_packets,1)\n",
    "rtt_cycles     = pynq.allocate(shape, dtype=np.uint32, target=ol_w0.HBM0)\n",
    "pkt            = pynq.allocate(1,     dtype=np.uint32, target=ol_w0.HBM0)\n",
    "\n",
    "collector_h = ol_w0.collector_0_2.start(rtt_cycles,pkt)"
   ]
  },
  {
   "cell_type": "code",
   "execution_count": 21,
   "metadata": {},
   "outputs": [],
   "source": [
    "send_pkts = send_packets\n",
    "ol_w0_tg = ol_w0.traffic_generator_0_2\n",
    "ol_w0_tg.register_map.debug_reset = 1\n",
    "ol_w0.networklayer_0.register_map.debug_reset_counters = 1\n",
    "ol_w0_tg.register_map.mode = benchmark_mode.index('LATENCY')\n",
    "ol_w0_tg.register_map.number_packets = send_pkts\n",
    "ol_w0_tg.register_map.time_between_packets = 50\n",
    "ol_w0_tg.register_map.number_beats = 1\n",
    "ol_w0_tg.register_map.dest_id = 2\n",
    "ol_w0_tg.register_map.CTRL.AP_START = 1"
   ]
  },
  {
   "cell_type": "code",
   "execution_count": 22,
   "metadata": {},
   "outputs": [
    {
     "data": {
      "application/json": {
       "rx_path": {
        "app": {
         "bytes": 0,
         "cycles": 0,
         "packets": 0
        },
        "arp": {
         "bytes": 0,
         "cycles": 0,
         "packets": 0
        },
        "ethernet": {
         "bytes": 1810,
         "cycles": 43502182813,
         "packets": 7
        },
        "icmp": {
         "bytes": 0,
         "cycles": 0,
         "packets": 0
        },
        "packet_handler": {
         "bytes": 0,
         "cycles": 0,
         "packets": 0
        },
        "udp": {
         "bytes": 0,
         "cycles": 0,
         "packets": 0
        }
       },
       "tx_path": {
        "app": {
         "bytes": 0,
         "cycles": 0,
         "packets": 0
        },
        "arp": {
         "bytes": 15060,
         "cycles": 2041,
         "packets": 251
        },
        "ethernet": {
         "bytes": 15060,
         "cycles": 2041,
         "packets": 251
        },
        "ethernet_header_inserter": {
         "bytes": 0,
         "cycles": 0,
         "packets": 0
        },
        "icmp": {
         "bytes": 0,
         "cycles": 0,
         "packets": 0
        },
        "udp": {
         "bytes": 0,
         "cycles": 0,
         "packets": 0
        }
       }
      },
      "text/plain": [
       "{'tx_path': {'arp': {'packets': 251, 'bytes': 15060, 'cycles': 2041},\n",
       "  'icmp': {'packets': 0, 'bytes': 0, 'cycles': 0},\n",
       "  'ethernet_header_inserter': {'packets': 0, 'bytes': 0, 'cycles': 0},\n",
       "  'ethernet': {'packets': 251, 'bytes': 15060, 'cycles': 2041},\n",
       "  'app': {'packets': 0, 'bytes': 0, 'cycles': 0},\n",
       "  'udp': {'packets': 0, 'bytes': 0, 'cycles': 0}},\n",
       " 'rx_path': {'ethernet': {'packets': 7, 'bytes': 1810, 'cycles': 43502182813},\n",
       "  'packet_handler': {'packets': 0, 'bytes': 0, 'cycles': 0},\n",
       "  'arp': {'packets': 0, 'bytes': 0, 'cycles': 0},\n",
       "  'icmp': {'packets': 0, 'bytes': 0, 'cycles': 0},\n",
       "  'udp': {'packets': 0, 'bytes': 0, 'cycles': 0},\n",
       "  'app': {'packets': 0, 'bytes': 0, 'cycles': 0}}}"
      ]
     },
     "execution_count": 22,
     "metadata": {
      "application/json": {
       "expanded": false,
       "root": "debug_probes"
      }
     },
     "output_type": "execute_result"
    }
   ],
   "source": [
    "ol_w0.networklayer_1.getDebugProbes"
   ]
  },
  {
   "cell_type": "code",
   "execution_count": 18,
   "metadata": {},
   "outputs": [],
   "source": [
    "ol_w0_tg.register_map.reset_fsm = 1"
   ]
  },
  {
   "cell_type": "code",
   "execution_count": 19,
   "metadata": {},
   "outputs": [],
   "source": [
    "ol_w0_tg.register_map.debug_reset = 1\n",
    "ol_w0_tg.register_map.reset_fsm = 0"
   ]
  },
  {
   "cell_type": "code",
   "execution_count": 23,
   "metadata": {},
   "outputs": [
    {
     "data": {
      "text/plain": [
       "RegisterMap {\n",
       "  CTRL = Register(AP_START=0, AP_DONE=0, AP_IDLE=1, AP_READY=0, AUTO_RESTART=0),\n",
       "  mode = Register(value=1),\n",
       "  dest_id = Register(value=2),\n",
       "  number_packets = Register(value=16777216),\n",
       "  number_beats = Register(value=1),\n",
       "  time_between_packets = Register(value=50),\n",
       "  reset_fsm = Register(value=0),\n",
       "  debug_fsms = Register(value=0),\n",
       "  out_traffic_cycles = Register(value=855637966),\n",
       "  out_traffic_bytes = Register(value=301989888),\n",
       "  out_traffic_packets = Register(value=16777216),\n",
       "  in_traffic_cycles = Register(value=855637964),\n",
       "  in_traffic_bytes = Register(value=301989888),\n",
       "  in_traffic_packets = Register(value=16777216),\n",
       "  summary_cycles = Register(value=855637966),\n",
       "  summary_bytes = Register(value=268697872),\n",
       "  summary_packets = Register(value=16793617),\n",
       "  debug_reset = Register(value=0)\n",
       "}"
      ]
     },
     "execution_count": 23,
     "metadata": {},
     "output_type": "execute_result"
    }
   ],
   "source": [
    "ol_w0_tg.register_map"
   ]
  },
  {
   "cell_type": "code",
   "execution_count": 24,
   "metadata": {},
   "outputs": [
    {
     "data": {
      "text/plain": [
       "PynqBuffer([[676],\n",
       "            [675],\n",
       "            [675],\n",
       "            ...,\n",
       "            [677],\n",
       "            [676],\n",
       "            [676]], dtype=uint32)"
      ]
     },
     "execution_count": 24,
     "metadata": {},
     "output_type": "execute_result"
    }
   ],
   "source": [
    "rtt_cycles.sync_from_device()\n",
    "rtt_cycles"
   ]
  },
  {
   "cell_type": "code",
   "execution_count": 25,
   "metadata": {},
   "outputs": [
    {
     "data": {
      "text/plain": [
       "16777216"
      ]
     },
     "execution_count": 25,
     "metadata": {},
     "output_type": "execute_result"
    }
   ],
   "source": [
    "len(rtt_cycles)"
   ]
  },
  {
   "cell_type": "code",
   "execution_count": 26,
   "metadata": {},
   "outputs": [
    {
     "name": "stderr",
     "output_type": "stream",
     "text": [
      "/tmp/ipykernel_14602/149005877.py:2: DeprecationWarning: `np.float` is a deprecated alias for the builtin `float`. To silence this warning, use `float` by itself. Doing this will not modify any behavior and is safe. If you specifically wanted the numpy scalar type, use `np.float64` here.\n",
      "Deprecated in NumPy 1.20; for more details and guidance: https://numpy.org/devdocs/release/1.20.0-notes.html#deprecations\n",
      "  rtt_usec = np.array(shape, dtype=np.float)\n"
     ]
    }
   ],
   "source": [
    "freq = int(ol_w0.clock_dict['clock0']['frequency'])\n",
    "rtt_usec = np.array(shape, dtype=np.float)\n",
    "rtt_usec= rtt_cycles / freq  # convert to microseconds"
   ]
  },
  {
   "cell_type": "code",
   "execution_count": 27,
   "metadata": {},
   "outputs": [
    {
     "name": "stdout",
     "output_type": "stream",
     "text": [
      "Round trip time at application level using 16,777,216 packets\n",
      "\tmean    = 2.296 us\n",
      "\tstd_dev = 0.004664 us\n",
      "\tmode    = 2.296 us, which appears 5,036,172 times\n",
      "\tmax     = 2.367 us\n",
      "\tmin     = 2.276 us\n"
     ]
    }
   ],
   "source": [
    "from scipy import stats\n",
    "mean, std_dev, mode = np.mean(rtt_usec), np.std(rtt_usec), stats.mode(rtt_usec)\n",
    "print(\"Round trip time at application level using {:,} packets\".format(len(rtt_usec)))\n",
    "print(\"\\tmean    = {:.3f} us\\n\\tstd_dev = {:.6f} us\".format(mean,std_dev))\n",
    "print(\"\\tmode    = {:.3f} us, which appears {:,} times\".format(mode[0][0][0],mode[1][0][0]))\n",
    "print(\"\\tmax     = {:.3f} us\".format(np.max(rtt_usec)))\n",
    "print(\"\\tmin     = {:.3f} us\".format(np.min(rtt_usec)))"
   ]
  },
  {
   "cell_type": "code",
   "execution_count": 28,
   "metadata": {},
   "outputs": [
    {
     "name": "stderr",
     "output_type": "stream",
     "text": [
      "/tmp/ipykernel_14602/1664195630.py:8: UserWarning: FixedFormatter should only be used together with FixedLocator\n",
      "  ax.set_yticklabels([''])\n"
     ]
    },
    {
     "data": {
      "text/plain": [
       "{'whiskers': [<matplotlib.lines.Line2D at 0x7f25c2ae23a0>,\n",
       "  <matplotlib.lines.Line2D at 0x7f25c32a6c10>],\n",
       " 'caps': [<matplotlib.lines.Line2D at 0x7f25c32a6520>,\n",
       "  <matplotlib.lines.Line2D at 0x7f25c2af8040>],\n",
       " 'boxes': [<matplotlib.lines.Line2D at 0x7f25c2ae2af0>],\n",
       " 'medians': [<matplotlib.lines.Line2D at 0x7f25c2af8310>],\n",
       " 'fliers': [<matplotlib.lines.Line2D at 0x7f25c2af85e0>],\n",
       " 'means': []}"
      ]
     },
     "execution_count": 28,
     "metadata": {},
     "output_type": "execute_result"
    },
    {
     "data": {
      "image/png": "[encoded data removed]",
      "text/plain": [
       "<Figure size 1296x144 with 1 Axes>"
      ]
     },
     "metadata": {
      "needs_background": "light"
     },
     "output_type": "display_data"
    }
   ],
   "source": [
    "%matplotlib inline\n",
    "import matplotlib.pyplot as plt\n",
    "\n",
    "red_square = dict(markerfacecolor='r', marker='s')\n",
    "fig, ax = plt.subplots()\n",
    "ax.set_title('RTT Box and whisker plot')\n",
    "ax.set_xlabel('Round Trip Time (microsecond)')\n",
    "ax.set_yticklabels([''])\n",
    "fig.set_size_inches(18, 2)\n",
    "ax.boxplot(rtt_usec, vert=False, flierprops=red_square)"
   ]
  },
  {
   "cell_type": "code",
   "execution_count": 30,
   "metadata": {},
   "outputs": [
    {
     "data": {
      "text/plain": [
       "[<matplotlib.lines.Line2D at 0x7f25ba9aed30>]"
      ]
     },
     "execution_count": 30,
     "metadata": {},
     "output_type": "execute_result"
    },
    {
     "data": {
      "image/png": "[encoded data removed]",
      "text/plain": [
       "<Figure size 432x288 with 1 Axes>"
      ]
     },
     "metadata": {
      "needs_background": "light"
     },
     "output_type": "display_data"
    }
   ],
   "source": [
    "fig, ax = plt.subplots()\n",
    "ax.plot(rtt_cycles[:100])"
   ]
  },
  {
   "cell_type": "code",
   "execution_count": null,
   "metadata": {},
   "outputs": [],
   "source": [
    "del rtt_cycles\n",
    "del pkt\n",
    "pynq.Overlay.free(ol_w0)"
   ]
  },
  {
   "cell_type": "markdown",
   "metadata": {},
   "source": [
    "------------------------------------------\n",
    "Copyright (c) 2020-2021, Xilinx, Inc."
   ]
  }
 ],
 "metadata": {
  "kernelspec": {
   "display_name": "Python 3 (ipykernel)",
   "language": "python",
   "name": "python3"
  },
  "language_info": {
   "codemirror_mode": {
    "name": "ipython",
    "version": 3
   },
   "file_extension": ".py",
   "mimetype": "text/x-python",
   "name": "python",
   "nbconvert_exporter": "python",
   "pygments_lexer": "ipython3",
   "version": "3.9.7"
  }
 },
 "nbformat": 4,
 "nbformat_minor": 4
}
